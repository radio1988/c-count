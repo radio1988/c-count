{
 "cells": [
  {
   "cell_type": "code",
   "execution_count": null,
   "metadata": {},
   "outputs": [],
   "source": [
    "from ccount import *\n",
    "import numpy as np\n",
    "import importlib\n",
    "import ccount\n",
    "importlib.reload(ccount)"
   ]
  },
  {
   "cell_type": "code",
   "execution_count": null,
   "metadata": {},
   "outputs": [],
   "source": [
    "ls *gz"
   ]
  },
  {
   "cell_type": "code",
   "execution_count": null,
   "metadata": {},
   "outputs": [],
   "source": [
    "merged = load_blobs_db(in_db_name='merged.strict.npy.gz')"
   ]
  },
  {
   "cell_type": "code",
   "execution_count": null,
   "metadata": {},
   "outputs": [],
   "source": [
    "merged.shape"
   ]
  },
  {
   "cell_type": "code",
   "execution_count": null,
   "metadata": {},
   "outputs": [],
   "source": [
    "blobs_stat(merged)"
   ]
  },
  {
   "cell_type": "code",
   "execution_count": null,
   "metadata": {},
   "outputs": [],
   "source": [
    "show_rand_crops(crops=merged, label_filter=1, num_shown=60)"
   ]
  },
  {
   "cell_type": "code",
   "execution_count": null,
   "metadata": {},
   "outputs": [],
   "source": [
    "show_rand_crops(crops=merged, label_filter=-2, num_shown=38)"
   ]
  },
  {
   "cell_type": "markdown",
   "metadata": {},
   "source": [
    "# test augmentation issue on positive images\n",
    "- no problem detected"
   ]
  },
  {
   "cell_type": "code",
   "execution_count": null,
   "metadata": {},
   "outputs": [],
   "source": [
    "positives = merged[merged[:, 3]==1, :]\n",
    "Images, Labels, Rs = parse_blobs(positives)\n",
    "w = int(Images[0].shape[0]/2)\n",
    "print(w)"
   ]
  },
  {
   "cell_type": "code",
   "execution_count": null,
   "metadata": {},
   "outputs": [],
   "source": [
    "aug_Images = ccount.augment_images(Images)"
   ]
  },
  {
   "cell_type": "code",
   "execution_count": null,
   "metadata": {},
   "outputs": [],
   "source": [
    "for i in range(60):\n",
    "    i = np.random.choice(range(len(Images)))\n",
    "    print(i)    \n",
    "    \n",
    "    fig, axes = plt.subplots(1, 2, figsize=(8, 16), sharex=False, sharey=False)\n",
    "    ax = axes.ravel()\n",
    "    ax[0].set_title('Raw')\n",
    "    ax[0].imshow(Images[i], 'gray')\n",
    "    c = plt.Circle((w - 1, w - 1), Rs[i]*1.4, color='yellow', linewidth=1, fill=False)\n",
    "    ax[0].add_patch(c)\n",
    "    ax[1].set_title('Augmented')\n",
    "    ax[1].imshow(aug_Images[i], 'gray')\n",
    "    c = plt.Circle((w - 1, w - 1), Rs[i]*1.4, color='yellow', linewidth=1, fill=False)\n",
    "    ax[1].add_patch(c)\n",
    "    plt.tight_layout()\n",
    "    plt.show()\n",
    "    plt.close()"
   ]
  },
  {
   "cell_type": "code",
   "execution_count": null,
   "metadata": {},
   "outputs": [],
   "source": [
    "np.save('test.npy', merged[0:100])"
   ]
  },
  {
   "cell_type": "code",
   "execution_count": null,
   "metadata": {},
   "outputs": [],
   "source": [
    "# Negatives\n",
    "positives = merged[merged[:, 3]==0, :]\n",
    "Images, Labels, Rs = parse_blobs(positives)\n",
    "w = int(Images[0].shape[0]/2)\n",
    "print(w)\n",
    "aug_Images = ccount.augment_images(Images)\n",
    "for i in range(60):\n",
    "    i = np.random.choice(range(len(Images)))\n",
    "    print(i)    \n",
    "    \n",
    "    fig, axes = plt.subplots(1, 2, figsize=(8, 16), sharex=False, sharey=False)\n",
    "    ax = axes.ravel()\n",
    "    ax[0].set_title('Raw')\n",
    "    ax[0].imshow(Images[i], 'gray')\n",
    "    c = plt.Circle((w - 1, w - 1), Rs[i]*1.4, color='yellow', linewidth=1, fill=False)\n",
    "    ax[0].add_patch(c)\n",
    "    ax[1].set_title('Augmented')\n",
    "    ax[1].imshow(aug_Images[i], 'gray')\n",
    "    c = plt.Circle((w - 1, w - 1), Rs[i]*1.4, color='yellow', linewidth=1, fill=False)\n",
    "    ax[1].add_patch(c)\n",
    "    plt.tight_layout()\n",
    "    plt.show()\n",
    "    plt.close()"
   ]
  },
  {
   "cell_type": "code",
   "execution_count": null,
   "metadata": {},
   "outputs": [],
   "source": []
  },
  {
   "cell_type": "code",
   "execution_count": null,
   "metadata": {},
   "outputs": [],
   "source": []
  },
  {
   "cell_type": "code",
   "execution_count": null,
   "metadata": {},
   "outputs": [],
   "source": []
  }
 ],
 "metadata": {
  "kernelspec": {
   "display_name": "py35",
   "language": "python",
   "name": "py35"
  },
  "language_info": {
   "codemirror_mode": {
    "name": "ipython",
    "version": 3
   },
   "file_extension": ".py",
   "mimetype": "text/x-python",
   "name": "python",
   "nbconvert_exporter": "python",
   "pygments_lexer": "ipython3",
   "version": "3.5.5"
  }
 },
 "nbformat": 4,
 "nbformat_minor": 2
}
