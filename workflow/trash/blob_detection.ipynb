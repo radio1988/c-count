{
 "cells": [
  {
   "cell_type": "code",
   "execution_count": null,
   "metadata": {},
   "outputs": [],
   "source": [
    "from ccount import *\n",
    "from os import environ"
   ]
  },
  {
   "cell_type": "markdown",
   "metadata": {},
   "source": [
    "#todo: faster list comprehension of cropping\n",
    "- 0627: reading new 2019 formatted czi images. very large, four scanned regions, zeros else-where. cut black regions, leave some margins for stitched images, put them together\n",
    "\n",
    "\n",
    "```\n",
    "from:\n",
    "    0 \n",
    "1       2\n",
    "    3\n",
    "\n",
    "\n",
    "\n",
    "to:\n",
    "0 1\n",
    "2 3\n",
    "```"
   ]
  },
  {
   "cell_type": "markdown",
   "metadata": {},
   "source": [
    "## Parameters"
   ]
  },
  {
   "cell_type": "code",
   "execution_count": null,
   "metadata": {},
   "outputs": [],
   "source": [
    "# you can adjust these parameters to suit your data\n",
    "# for run.sh\n",
    "format=\"2019\"\n",
    "if environ.get('fname') is not None:\n",
    "    fname = environ['fname']  # for runipy\n",
    "else:\n",
    "    # for notebook running\n",
    "    fname = '../../ccount_data/E2F4_CFUe_14JUN19_stitching/C_CFUe_1-Stitching-10.czi'\n",
    "    #fname = '../ccount_data/E2F4_CFUe_14JUN19/A_CFUe_1.czi'\n",
    "\n",
    "\n",
    "    \n",
    "    #fname = '../test_data/S0_0MMC_c.czi'\n",
    "\n",
    "\n",
    "\n",
    "print('fname:', fname)\n",
    "\n",
    "if format=='2019':\n",
    "    block_height = 2000\n",
    "    block_width = 2400 # pixcels, if 0, use whole image as block (still buggy whole image equalization)\n",
    "    scaling_factor = 4 # 1: original dimension, 2: 1/2, 4: 1/4\n",
    "    "
   ]
  },
  {
   "cell_type": "code",
   "execution_count": null,
   "metadata": {},
   "outputs": [],
   "source": [
    "# please don't change unless necessary\n",
    "# Jan 2020, jpg -> png; save images in workdir\n",
    "# Jan 2020, scaling_factor=1, larger num_sigma 5->10, min_sigma 11->6\n",
    "# Jan 2020, \n",
    "blob_extention_ratio = 1.4 # soft extend blob radius manually (1.4)\n",
    "blob_extention_radius = 2 # pixcels to extend (2)\n",
    "crop_width = 80  # padding width, which is cropped img width/2 (50)\n",
    "overlap=.0\n",
    "\n",
    "if scaling_factor == 1:\n",
    "    max_sigma=50 \n",
    "    min_sigma=4\n",
    "    num_sigma=15\n",
    "    threshold=0.1\n",
    "elif scaling_factor == 2:\n",
    "    max_sigma=40\n",
    "    min_sigma=2\n",
    "    num_sigma=10\n",
    "    threshold=0.1\n",
    "elif scaling_factor == 4:\n",
    "    max_sigma=20\n",
    "    min_sigma=8\n",
    "    num_sigma=20  # 19Aug, 10 better sensitivity than 5, 1/2 speed\n",
    "    threshold=0.02\n",
    "\n",
    "    \n",
    "outname = os.path.basename(fname)\n",
    "detected_dbname = re.sub('.czi$', '.npy', outname)\n",
    "labeled_dbname = re.sub('.czi$', '.labeled.npy', outname)\n",
    "out_img_fname = re.sub('.czi$', '.png', outname)\n",
    "equ_img_fname = re.sub('.czi$', '.equ.png', outname)\n",
    "\n",
    "visualization = True\n",
    "equalization = True"
   ]
  },
  {
   "cell_type": "markdown",
   "metadata": {},
   "source": [
    "- min_sigmascalar or sequence of scalars, optional\n",
    "the minimum standard deviation for Gaussian kernel. Keep this low to detect smaller blobs. The standard deviations of the Gaussian filter are given for each axis as a sequence, or as a single number, in which case it is equal for all axes.\n",
    "- max_sigmascalar or sequence of scalars, optional\n",
    "The maximum standard deviation for Gaussian kernel. Keep this high to detect larger blobs. The standard deviations of the Gaussian filter are given for each axis as a sequence, or as a single number, in which case it is equal for all axes.\n",
    "- num_sigmaint, optional\n",
    "The number of intermediate values of standard deviations to consider between min_sigma and max_sigma.\n",
    "- thresholdfloat, optional.\n",
    "The absolute lower bound for scale space maxima. Local maxima smaller than thresh are ignored. Reduce this to detect blobs with less intensities."
   ]
  },
  {
   "cell_type": "markdown",
   "metadata": {},
   "source": [
    "## Read whole image (czi)"
   ]
  },
  {
   "cell_type": "code",
   "execution_count": null,
   "metadata": {
    "scrolled": true
   },
   "outputs": [],
   "source": [
    "print(fname)\n",
    "image = read_czi(fname, format=\"2019\")\n",
    "#image = down_scale(image, 4) # test\n",
    "image = np.divide(image, np.max(image))  # from 0-255 or any range -> 0-1\n",
    "\n",
    "# image = image[0:2048*3, 0:2048*3]\n",
    "\n",
    "dims = np.divide(image.shape, 128) # out jpg size: 256 big, 512 mid, 1024 small\n",
    "# finished 06/27"
   ]
  },
  {
   "cell_type": "code",
   "execution_count": null,
   "metadata": {},
   "outputs": [],
   "source": [
    "# Test to speed up development\n",
    "# image = down_scale(image, 4)\n",
    "# image = image[0:image.shape[0]//8, 0:image.shape[1]//8]"
   ]
  },
  {
   "cell_type": "code",
   "execution_count": null,
   "metadata": {},
   "outputs": [],
   "source": [
    "print(image.shape)"
   ]
  },
  {
   "cell_type": "markdown",
   "metadata": {},
   "source": [
    "## Plot whole image (takes time)"
   ]
  },
  {
   "cell_type": "code",
   "execution_count": null,
   "metadata": {},
   "outputs": [],
   "source": [
    "# ## Input Image\n",
    "# if visualization:\n",
    "#     fig, axes = plt.subplots(1,1, figsize=(20,20))\n",
    "#     plt.imshow(image, 'gray')\n",
    "#     plt.show()"
   ]
  },
  {
   "cell_type": "markdown",
   "metadata": {},
   "source": [
    "## Find Blobs"
   ]
  },
  {
   "cell_type": "code",
   "execution_count": null,
   "metadata": {},
   "outputs": [],
   "source": [
    "# detect with original image\n",
    "if equalization:\n",
    "    ## equalizagion\n",
    "    print(\">>> Equalizing image\")\n",
    "    if block_width <=0:\n",
    "        print(\"Equalizing the whole image\")\n",
    "        image_equ = equalize(image)\n",
    "    else:\n",
    "        print(\"Equalizing image block by block\")\n",
    "        image_equ = block_equalize(image, block_height=block_height, block_width=block_width)\n",
    "    \n",
    "    ## visualization\n",
    "#    if visualization:\n",
    "#        print(\">> Visualizing equalized image\")\n",
    "#        fig, axes = plt.subplots(1, 1, figsize=(20, 20), sharex=True, sharey=True)\n",
    "#        ax[0].imshow(image_equ, 'gray')\n",
    "#        plt.show()\n",
    "#        #plt.savefig(equ_img_fname)\n",
    "#        #print(\"equ_img saved as \", equ_img_fname)\n",
    "    \n",
    "    ## find blobs\n",
    "    print(\">>> Detecting blobs after equalization\")\n",
    "    crops = find_blobss_and_crop(\n",
    "        image, image_equ,\n",
    "        crop_width=crop_width, \n",
    "        # blob_detection parameters\n",
    "        scaling_factor=scaling_factor,\n",
    "        max_sigma=max_sigma, \n",
    "        min_sigma=min_sigma, \n",
    "        num_sigma=num_sigma, \n",
    "        threshold=threshold, \n",
    "        overlap=overlap,\n",
    "\n",
    "        # blob yellow circle visualization parameters\n",
    "        blob_extention_ratio=blob_extention_ratio,\n",
    "        blob_extention_radius=blob_extention_radius\n",
    "    )\n",
    "else:\n",
    "    ## find blobs on original photo\n",
    "    print(\">>> Detecting blobs without equalization\")\n",
    "    crops = find_blobss_and_crop(\n",
    "        image, image,\n",
    "        crop_width=crop_width, \n",
    "        # blob_detection parameters\n",
    "        scaling_factor=scaling_factor,\n",
    "        max_sigma=max_sigma, \n",
    "        min_sigma=min_sigma, \n",
    "        num_sigma=num_sigma, \n",
    "        threshold=threshold, \n",
    "        overlap=overlap,\n",
    "\n",
    "        # blob yellow circle visualization parameters\n",
    "        blob_extention_ratio=blob_extention_ratio,\n",
    "        blob_extention_radius=blob_extention_radius\n",
    "    )"
   ]
  },
  {
   "cell_type": "code",
   "execution_count": null,
   "metadata": {},
   "outputs": [],
   "source": [
    "## Histogtam of radius\n",
    "r_ = crops[:,2]\n",
    "plt.hist(r_, 40)\n",
    "plt.title(\"Histogram of blob size\")\n",
    "plt.show()"
   ]
  },
  {
   "cell_type": "code",
   "execution_count": null,
   "metadata": {},
   "outputs": [],
   "source": [
    "## show randome blobs from all blobs\n",
    "show_rand_crops(crops=crops, label_filter='na', num_shown=5, \n",
    "               blob_extention_ratio=blob_extention_ratio, blob_extention_radius=blob_extention_radius)"
   ]
  },
  {
   "cell_type": "code",
   "execution_count": null,
   "metadata": {},
   "outputs": [],
   "source": [
    "## show blobs of specific sizes\n",
    "filtered_blobs = filter_blobs(blobs=crops, r_min=80, r_max=80)\n",
    "r_ = filtered_blobs[:,2]\n",
    "plt.hist(r_, 40)\n",
    "plt.title(\"Histogram of filtered blob size\")\n",
    "plt.show()\n",
    "show_rand_crops(crops=filtered_blobs, label_filter='na', num_shown=5,\n",
    "                blob_extention_ratio=blob_extention_ratio, blob_extention_radius=blob_extention_radius)"
   ]
  },
  {
   "cell_type": "markdown",
   "metadata": {},
   "source": [
    "## Save all blobs detected (for labeling/training)"
   ]
  },
  {
   "cell_type": "code",
   "execution_count": null,
   "metadata": {},
   "outputs": [],
   "source": [
    "print('there are {} blobs detected'.format(len(crops)))\n",
    "print(crops.shape)\n",
    "np.save(detected_dbname, crops)\n",
    "print('saved into {}'.format(detected_dbname))"
   ]
  },
  {
   "cell_type": "markdown",
   "metadata": {},
   "source": [
    "## Save html"
   ]
  },
  {
   "cell_type": "code",
   "execution_count": null,
   "metadata": {},
   "outputs": [],
   "source": [
    "## save this file in html format\n",
    "!jupyter nbconvert --to html blob_detection.ipynb\n"
   ]
  },
  {
   "cell_type": "code",
   "execution_count": null,
   "metadata": {},
   "outputs": [],
   "source": [
    "%%bash\n",
    "#mv blob_detection.html 1.blob_detection.large_block_equ.html"
   ]
  },
  {
   "cell_type": "code",
   "execution_count": null,
   "metadata": {},
   "outputs": [],
   "source": []
  }
 ],
 "metadata": {
  "kernelspec": {
   "display_name": "tf",
   "language": "python",
   "name": "tf"
  },
  "language_info": {
   "codemirror_mode": {
    "name": "ipython",
    "version": 3
   },
   "file_extension": ".py",
   "mimetype": "text/x-python",
   "name": "python",
   "nbconvert_exporter": "python",
   "pygments_lexer": "ipython3",
   "version": "3.6.9"
  }
 },
 "nbformat": 4,
 "nbformat_minor": 4
}
