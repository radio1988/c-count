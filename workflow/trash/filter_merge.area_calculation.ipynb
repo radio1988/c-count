{
 "cells": [
  {
   "cell_type": "code",
   "execution_count": null,
   "metadata": {},
   "outputs": [],
   "source": [
    "%matplotlib inline\n",
    "from ccount import *\n",
    "import glob\n",
    "import numpy as np"
   ]
  },
  {
   "cell_type": "code",
   "execution_count": null,
   "metadata": {},
   "outputs": [],
   "source": [
    "name = \"ForLabeling.area_calculation\""
   ]
  },
  {
   "cell_type": "markdown",
   "metadata": {},
   "source": [
    "# Load Pre-build crops (cropped images of blobs)"
   ]
  },
  {
   "cell_type": "code",
   "execution_count": null,
   "metadata": {},
   "outputs": [],
   "source": [
    "ls ForLabeling/*.npy.gz"
   ]
  },
  {
   "cell_type": "code",
   "execution_count": null,
   "metadata": {},
   "outputs": [],
   "source": [
    "i = 0\n",
    "for fname in glob.iglob('ForLabeling/*.npy.gz'):\n",
    "    i+=1\n",
    "    print(i, fname)\n",
    "    if (i== 1):\n",
    "        crops = load_blobs_db(fname)\n",
    "    else:\n",
    "        crop_ = load_blobs_db(fname)\n",
    "        crops = np.vstack((crops, crop_))\n",
    "    print('merged crops:', crops.shape)"
   ]
  },
  {
   "cell_type": "markdown",
   "metadata": {},
   "source": [
    "## Filter blobs based on size"
   ]
  },
  {
   "cell_type": "markdown",
   "metadata": {},
   "source": [
    "### Histogram"
   ]
  },
  {
   "cell_type": "code",
   "execution_count": null,
   "metadata": {},
   "outputs": [],
   "source": [
    "r_ = crops[:,2]\n",
    "plt.hist(r_, 40)\n",
    "plt.title(\"Histogram of blob size\")\n",
    "plt.show()"
   ]
  },
  {
   "cell_type": "code",
   "execution_count": null,
   "metadata": {},
   "outputs": [],
   "source": [
    "## Filtering Params\n",
    "# num_shown = 20\n",
    "# min_mid = 50  # mid is target\n",
    "# min_large = 100\n",
    "\n",
    "# small_crops = filter_blobs(crops, 0, min_mid)\n",
    "# mid_crops = filter_blobs(crops, min_mid, min_large)\n",
    "# large_crops = filter_blobs(crops, min_large, 10000000)\n",
    "\n",
    "\n",
    "# ## small_blobs\n",
    "# print('there are {} small blobs'.format(len(small_crops)))\n",
    "# show_rand_crops(crops=small_crops, num_shown=num_shown)\n",
    "\n",
    "# ## mid_blobs\n",
    "# print('there are {} mid blobs'.format(len(mid_crops)))\n",
    "# show_rand_crops(crops=mid_crops, num_shown=num_shown)\n",
    "\n",
    "\n",
    "# ## large_blobs\n",
    "# print('there are {} large blobs'.format(len(large_crops)))\n",
    "# show_rand_crops(crops=large_crops, num_shown=num_shown)\n",
    "\n",
    "# print(small_crops.shape, mid_crops.shape, large_crops.shape)\n",
    "\n",
    "# #np.save('small.npy', small_crops)\n",
    "# np.save('CFUe_7MAY18.mid.npy', mid_crops)\n",
    "# np.save('CFUe_7MAY18.large.npy', large_crops)"
   ]
  },
  {
   "cell_type": "markdown",
   "metadata": {},
   "source": [
    "## Filter by yes/no"
   ]
  },
  {
   "cell_type": "code",
   "execution_count": null,
   "metadata": {},
   "outputs": [],
   "source": [
    "# yes_blobs = show_rand_crops(crops, label_filter=1, plot_area=False, num_shown=3)"
   ]
  },
  {
   "cell_type": "code",
   "execution_count": null,
   "metadata": {},
   "outputs": [],
   "source": [
    "# no_blobs = show_rand_crops(crops, label_filter=0, plot_area=False, num_shown=3)"
   ]
  },
  {
   "cell_type": "code",
   "execution_count": null,
   "metadata": {},
   "outputs": [],
   "source": [
    "# print(\"yes blobs\", yes_blobs.shape)\n",
    "# print(\"no blobs\", no_blobs.shape)"
   ]
  },
  {
   "cell_type": "markdown",
   "metadata": {},
   "source": [
    "## Area Calculation\n"
   ]
  },
  {
   "cell_type": "code",
   "execution_count": null,
   "metadata": {},
   "outputs": [],
   "source": [
    "no_blobs = crops\n",
    "Images, Labels, Rs = parse_blobs(no_blobs)\n",
    "areas = [area_calculation(image, r=Rs[ind], plotting=False) for ind, image in enumerate(Images)]"
   ]
  },
  {
   "cell_type": "code",
   "execution_count": null,
   "metadata": {},
   "outputs": [],
   "source": [
    "plt.hist(areas, 40)\n",
    "plt.title(\"Blob area in pixcels\")\n",
    "plt.show()"
   ]
  },
  {
   "cell_type": "code",
   "execution_count": null,
   "metadata": {},
   "outputs": [],
   "source": [
    "idx = [(x > 0 and x <500) for x in areas]\n",
    "small_blobs = no_blobs[idx,:]\n",
    "print(len(small_blobs))\n",
    "_ = show_rand_crops(small_blobs, plot_area=True)"
   ]
  },
  {
   "cell_type": "code",
   "execution_count": null,
   "metadata": {},
   "outputs": [],
   "source": [
    "idx = [(x > 500 and x <1500) for x in areas]\n",
    "mid_blobs = no_blobs[idx,:]\n",
    "print(len(mid_blobs))\n",
    "_ = show_rand_crops(mid_blobs, plot_area=True)"
   ]
  },
  {
   "cell_type": "code",
   "execution_count": null,
   "metadata": {},
   "outputs": [],
   "source": [
    "idx = [(x > 1500 and x < 3000) for x in areas]\n",
    "large_blobs = no_blobs[idx,:]\n",
    "print(len(large_blobs))\n",
    "_ = show_rand_crops(large_blobs, plot_area=True)\n"
   ]
  },
  {
   "cell_type": "code",
   "execution_count": null,
   "metadata": {},
   "outputs": [],
   "source": [
    "idx = [(x > 3000) for x in areas]\n",
    "huge_blobs = no_blobs[idx,:]\n",
    "print(len(huge_blobs))\n",
    "_ = show_rand_crops(huge_blobs, plot_area=True)\n"
   ]
  },
  {
   "cell_type": "markdown",
   "metadata": {},
   "source": [
    "## Save"
   ]
  },
  {
   "cell_type": "code",
   "execution_count": null,
   "metadata": {},
   "outputs": [],
   "source": [
    "# size = 1800\n",
    "# # idx_yes = np.random.choice(range(len(yes_blobs)), size, replace=False)\n",
    "# # yes_blobs_sample = yes_blobs[idx_yes, :]\n",
    "# yes_blobs[:, 3] = -1  # remove labels\n",
    "\n",
    "# idx_no = np.random.choice(range(len(large)), size, replace=False)\n",
    "# no_blobs_sample = no_blobs[idx_no, :]"
   ]
  },
  {
   "cell_type": "code",
   "execution_count": null,
   "metadata": {},
   "outputs": [],
   "source": [
    "# # print(yes_blobs_sample.shape)\n",
    "# print(no_blobs_sample.shape)\n",
    "# # np.save(name + \".Daniel1.yes.npy\", yes_blobs_sample)\n",
    "# np.save(name + \".npy\", no_blobs_sample)"
   ]
  },
  {
   "cell_type": "code",
   "execution_count": null,
   "metadata": {},
   "outputs": [],
   "source": [
    "# !gzip -f *npy"
   ]
  },
  {
   "cell_type": "code",
   "execution_count": null,
   "metadata": {},
   "outputs": [],
   "source": [
    "!jupyter nbconvert --to html filter_merge.area_calculation.ipynb"
   ]
  },
  {
   "cell_type": "code",
   "execution_count": null,
   "metadata": {},
   "outputs": [],
   "source": [
    "html_name = name + \".filter_merge.html\"\n",
    "nb_name = name + '.filter_merge.ipynb'\n",
    "!echo $html_name $nb_name\n",
    "!cp filter_merge.area_calculation.html $html_name\n",
    "!cp filter_merge.area_calculation.ipynb $nb_name"
   ]
  },
  {
   "cell_type": "code",
   "execution_count": null,
   "metadata": {},
   "outputs": [],
   "source": []
  }
 ],
 "metadata": {
  "kernelspec": {
   "display_name": "py36",
   "language": "python",
   "name": "py36"
  },
  "language_info": {
   "codemirror_mode": {
    "name": "ipython",
    "version": 3
   },
   "file_extension": ".py",
   "mimetype": "text/x-python",
   "name": "python",
   "nbconvert_exporter": "python",
   "pygments_lexer": "ipython3",
   "version": "3.6.9"
  }
 },
 "nbformat": 4,
 "nbformat_minor": 2
}
