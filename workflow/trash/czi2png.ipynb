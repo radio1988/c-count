{
 "cells": [
  {
   "cell_type": "code",
   "execution_count": null,
   "metadata": {},
   "outputs": [],
   "source": [
    "from os import environ\n",
    "from ccount import read_czi, block_equalize\n",
    "import numpy as np\n",
    "import matplotlib.pyplot as plt\n",
    "import os\n",
    "import re\n",
    "import matplotlib"
   ]
  },
  {
   "cell_type": "code",
   "execution_count": null,
   "metadata": {},
   "outputs": [],
   "source": [
    "# Read Image\n",
    "format=\"2019\"\n",
    "if environ.get('fname') is not None:\n",
    "    fname = environ['fname']  # for runipy\n",
    "else:\n",
    "    # for notebook running\n",
    "    fname = '../../ccount_data/Ashley_Epo_DRC_31JAN20/No_Epo_1_1st_scan_Stitched.czi'\n",
    "print('fname:', fname)\n",
    "\n",
    "\n",
    "outname = os.path.basename(fname)\n",
    "out_img_fname = re.sub('.czi$', '.jpg', outname)\n",
    "equ_img_fname = re.sub('.czi$', '.equ.jpg', outname)\n",
    "print(\"out_img_fname\", out_img_fname)\n",
    "print(\"equ_img_fname\", equ_img_fname)"
   ]
  },
  {
   "cell_type": "code",
   "execution_count": null,
   "metadata": {},
   "outputs": [],
   "source": [
    "print(fname)\n",
    "image = read_czi(fname, format=\"2019\")"
   ]
  },
  {
   "cell_type": "code",
   "execution_count": null,
   "metadata": {},
   "outputs": [],
   "source": [
    "matplotlib.image.imsave(out_img_fname, image, cmap = \"gray\")"
   ]
  },
  {
   "cell_type": "code",
   "execution_count": null,
   "metadata": {},
   "outputs": [],
   "source": [
    "image_equ = block_equalize(image, block_height=2000, block_width=2400)"
   ]
  },
  {
   "cell_type": "code",
   "execution_count": null,
   "metadata": {},
   "outputs": [],
   "source": [
    "matplotlib.image.imsave(equ_img_fname, image_equ, cmap = \"gray\")"
   ]
  }
 ],
 "metadata": {
  "kernelspec": {
   "display_name": "py36",
   "language": "python",
   "name": "py36"
  },
  "language_info": {
   "codemirror_mode": {
    "name": "ipython",
    "version": 3
   },
   "file_extension": ".py",
   "mimetype": "text/x-python",
   "name": "python",
   "nbconvert_exporter": "python",
   "pygments_lexer": "ipython3",
   "version": "3.6.9"
  }
 },
 "nbformat": 4,
 "nbformat_minor": 4
}
