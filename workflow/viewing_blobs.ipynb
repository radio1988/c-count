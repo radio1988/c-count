{
 "cells": [
  {
   "cell_type": "code",
   "execution_count": null,
   "metadata": {},
   "outputs": [],
   "source": [
    "%matplotlib inline\n",
    "import warnings\n",
    "warnings.filterwarnings('ignore')\n",
    "from ccount import *\n",
    "import matplotlib\n",
    "import matplotlib.pyplot as plt\n",
    "from os import environ\n",
    "import os"
   ]
  },
  {
   "cell_type": "code",
   "execution_count": null,
   "metadata": {},
   "outputs": [],
   "source": [
    "if environ.get('fname') is not None:\n",
    "    in_name = environ['fname']  # for runipy\n",
    "else:\n",
    "    in_name = \"blobs/E2f4_CFUe_KO_1-Stitching-01.npy.gz\" # for notebook\n",
    "    \n",
    "if environ.get('dir') is not None:\n",
    "    os.chdir(environ['dir'])\n",
    "else:\n",
    "    pass\n",
    "\n",
    "path = os.getcwd()\n",
    "print(path)\n",
    "\n",
    "out_name = in_name.replace(\"npy.gz\", \"html\")\n",
    "print(in_name, \"->\", out_name)\n",
    "\n",
    "# Please don't change unless have to\n",
    "block_height = 2048 \n",
    "block_width = 2048 # pixcels\n",
    "\n",
    "blob_extention_ratio = 1.4 # extend blob radius manually (1.4)\n",
    "blob_extention_radius = 30 # pixcels to extend (2)"
   ]
  },
  {
   "cell_type": "code",
   "execution_count": null,
   "metadata": {},
   "outputs": [],
   "source": [
    "# load\n",
    "image_flat_crops = load_blobs_db(in_name)\n",
    "w = int(sqrt(image_flat_crops.shape[1]-6)) # padding width & cropped img width/2"
   ]
  },
  {
   "cell_type": "code",
   "execution_count": null,
   "metadata": {},
   "outputs": [],
   "source": [
    "r_ = image_flat_crops[:,2]\n",
    "plt.hist(r_, 40)\n",
    "plt.show()"
   ]
  },
  {
   "cell_type": "code",
   "execution_count": null,
   "metadata": {},
   "outputs": [],
   "source": [
    "show_rand_crops(crops=image_flat_crops, label_filter=1, num_shown=5)"
   ]
  },
  {
   "cell_type": "code",
   "execution_count": null,
   "metadata": {},
   "outputs": [],
   "source": [
    "show_rand_crops(crops=image_flat_crops, label_filter=0, num_shown=5)"
   ]
  },
  {
   "cell_type": "code",
   "execution_count": null,
   "metadata": {},
   "outputs": [],
   "source": [
    "show_rand_crops(crops=image_flat_crops, label_filter=-2, num_shown=5)"
   ]
  },
  {
   "cell_type": "code",
   "execution_count": null,
   "metadata": {},
   "outputs": [],
   "source": [
    "show_rand_crops(crops=image_flat_crops, label_filter=\"na\", num_shown=15)"
   ]
  },
  {
   "cell_type": "code",
   "execution_count": null,
   "metadata": {},
   "outputs": [],
   "source": [
    "crops = image_flat_crops\n",
    "#crops = crops[crops[:, 3] >= 0, :]  # remove unlabeled\n",
    "blobs_stat(crops)"
   ]
  },
  {
   "cell_type": "code",
   "execution_count": null,
   "metadata": {},
   "outputs": [],
   "source": [
    "cluster_info = pd.DataFrame(crops[:, 3], columns=['cluster_id'])\n",
    "tsne_df = pca_tsne(pd.DataFrame(crops), cluster_info=cluster_info)"
   ]
  },
  {
   "cell_type": "code",
   "execution_count": null,
   "metadata": {},
   "outputs": [],
   "source": [
    "## save this file in html format\n",
    "# !jupyter nbconvert --to html viewing_blobs.ipynb\n",
    "# try:\n",
    "#     os.mkdir(\"html\")\n",
    "# except(FileExistsError):\n",
    "#     pass\n",
    "\n",
    "# if os.path.exists(\"html/\"+out_name):\n",
    "#     os.remove(\"html/\"+out_name)\n",
    "# os.rename(\"viewing_blobs.html\", \"html/\"+out_name)\n",
    "# print(\"saved into\", out_name)"
   ]
  },
  {
   "cell_type": "code",
   "execution_count": null,
   "metadata": {},
   "outputs": [],
   "source": []
  }
 ],
 "metadata": {
  "kernelspec": {
   "display_name": "Python 3",
   "language": "python",
   "name": "python3"
  },
  "language_info": {
   "codemirror_mode": {
    "name": "ipython",
    "version": 3
   },
   "file_extension": ".py",
   "mimetype": "text/x-python",
   "name": "python",
   "nbconvert_exporter": "python",
   "pygments_lexer": "ipython3",
   "version": "3.6.3"
  }
 },
 "nbformat": 4,
 "nbformat_minor": 2
}
