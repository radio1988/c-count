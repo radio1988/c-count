{
 "cells": [
  {
   "cell_type": "code",
   "execution_count": 7,
   "id": "5bc1a10f",
   "metadata": {},
   "outputs": [],
   "source": [
    "#import ccount\n",
    "from ccount_utils.blob import load_blobs, save_crops\n",
    "from ccount_utils.blob import area_calculations, area_calculation\n",
    "import sys, subprocess, os\n",
    "import numpy as np\n",
    "import matplotlib.pyplot as plt\n",
    "\n",
    "from ccount_utils.blob import show_rand_crops\n",
    "from ccount_utils.blob import parse_crops"
   ]
  },
  {
   "cell_type": "code",
   "execution_count": 15,
   "id": "776652f6",
   "metadata": {},
   "outputs": [
    {
     "name": "stdout",
     "output_type": "stream",
     "text": [
      "Reading ./res/classification1/pos/S1CONT2_SECOND_SCAN-Stitching-07.2.crops.clas.npy.gz\n",
      "n-crop: 92, crop width: 80\n",
      "92 Yes, 0 No, 0 Uncertain, 0 Unlabeled\n",
      "Total: 92\n"
     ]
    }
   ],
   "source": [
    "#fname=\"./res/classification1/pos/S1PFA3_SECOND_SCAN-Stitching-01.0.crops.clas.npy.gz\"\n",
    "#fname=\"./res/classification1/pos/S0A1_FIRST_SCAN-Stitching-24.0.crops.clas.npy.gz\"\n",
    "#fname=\"./res/classification1/pos/S0B1_FIRST_SCAN-Stitching-18.0.crops.clas.npy.gz\"\n",
    "fname=\"./res/classification1/pos/S1CONT2_SECOND_SCAN-Stitching-07.2.crops.clas.npy.gz\"\n",
    "\n",
    "crops = load_blobs(fname)"
   ]
  },
  {
   "cell_type": "code",
   "execution_count": 16,
   "id": "b2406f7d",
   "metadata": {},
   "outputs": [
    {
     "name": "stdout",
     "output_type": "stream",
     "text": [
      "labels ['1', '1', '1', '1', '1']\n",
      "areas: [5114, 1747, 2289, 8105, 4507]\n"
     ]
    }
   ],
   "source": [
    "areas = area_calculations(crops)"
   ]
  },
  {
   "cell_type": "code",
   "execution_count": 17,
   "id": "7ee71539",
   "metadata": {},
   "outputs": [],
   "source": [
    "large = [x>8500 for x in areas]\n",
    "idx = [i for i, x in enumerate(large) if x]"
   ]
  },
  {
   "cell_type": "code",
   "execution_count": 18,
   "id": "25469e07",
   "metadata": {},
   "outputs": [],
   "source": [
    "images, labels, rs = parse_crops(crops)\n",
    "#areas = [area_calculation(image, r=rs[ind], plotting=False) for ind, image in enumerate(images)]"
   ]
  },
  {
   "cell_type": "code",
   "execution_count": 19,
   "id": "8b90c085",
   "metadata": {},
   "outputs": [],
   "source": [
    "#os.mkdir('view_big_colonies') \n",
    "for i in idx:\n",
    "    outname=os.path.basename(fname)\n",
    "    outname=outname.replace(\".crops.clas.npy.gz\",\"\")\n",
    "    outname=outname + \".\" + str(i) +'.area'+ str(areas[i])\n",
    "    area_calculation(images[i,:,:], rs[i], plotting=True, fname='view_big_colonies/'+outname+'.pdf')\n",
    "    print(outname)"
   ]
  }
 ],
 "metadata": {
  "kernelspec": {
   "display_name": "mamba",
   "language": "python",
   "name": "mamba"
  },
  "language_info": {
   "codemirror_mode": {
    "name": "ipython",
    "version": 3
   },
   "file_extension": ".py",
   "mimetype": "text/x-python",
   "name": "python",
   "nbconvert_exporter": "python",
   "pygments_lexer": "ipython3",
   "version": "3.11.0"
  }
 },
 "nbformat": 4,
 "nbformat_minor": 5
}
