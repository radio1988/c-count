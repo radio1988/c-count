{
 "cells": [
  {
   "cell_type": "code",
   "execution_count": null,
   "metadata": {},
   "outputs": [],
   "source": [
    "import sys\n",
    "from pathlib import Path\n",
    "home = str(Path.home())\n",
    "sys.path.append(home+'/ccount/ccount/workflow/scripts')\n",
    "sys.path.append(home+'/ccount/ccount/workflow/scripts/ccount')\n",
    "from os.path import exists\n",
    "\n",
    "from ccount.blob.io import load_locs, save_crops, load_crops\n",
    "from ccount.blob.misc import crops_stat\n",
    "from ccount.clas.pca_tsne import pca_tsne\n",
    "\n",
    "from ccount.img.read_czi import read_czi, parse_image_arrays\n",
    "from ccount.blob.crop_blobs import crop_blobs\n",
    "from ccount.blob.plot import plot_flat_crop, plot_flat_crops, pop_label_flat_crops, show_rand_crops\n",
    "\n",
    "import numpy as np\n",
    "import pandas as pd\n",
    "import subprocess\n",
    "\n",
    "import matplotlib\n",
    "import matplotlib.pyplot as plt\n",
    "%matplotlib inline"
   ]
  },
  {
   "cell_type": "code",
   "execution_count": null,
   "metadata": {},
   "outputs": [],
   "source": [
    "# show file names of all blobs that needs to be labeled\n",
    "%ls /mnt/d/ccount/dev2021/training_data/E2f4_CFUe_2OCT20/res/filter_merge/*npy*\n",
    "%ls /mnt/d/ccount/dev2021/training_data/E2f4_CFUe_2OCT20/data/*czi"
   ]
  },
  {
   "cell_type": "markdown",
   "metadata": {},
   "source": [
    "# User Parameters"
   ]
  },
  {
   "cell_type": "code",
   "execution_count": null,
   "metadata": {},
   "outputs": [],
   "source": [
    "# pos/clas.npy.gz, blob_crops/crops.npy.gz, or blob_locs/locs.npy.gz\n",
    "name = 'E2f4_CFUe_KO_1-Stitching-01.0'  # core name of npy.gz file, which is used to auto generate loc/czi names, and output names\n",
    "czi_name = 'E2f4_CFUe_KO_1-Stitching-01'  # without .0 .1 .2 .3\n",
    "image_index = 0  # 0 if loc_file = 'xxx.0.xxx.npy.gz', 1 if 'xxx.1.xxx.npy.gz'\n",
    "\n",
    "loc_file = '/mnt/d/ccount/dev2021/training_data/E2f4_CFUe_2OCT20/res/filter_merge/'+name+'.flt.npy.gz'  \n",
    "print(exists(loc_file))\n",
    "\n",
    "# corresponding czi file (must match loc_file)\n",
    "czi_file = '/mnt/d/ccount/dev2021/training_data/E2f4_CFUe_2OCT20/data/' + czi_name + '.czi'  \n",
    "print(exists(czi_file))\n",
    "\n",
    "## output file name, please don't over-write important files!!!\n",
    "out_name = name + '.labeled.npy.gz' # file name to be saved in, will over-write existing files\n",
    "print('out fname:', out_name)"
   ]
  },
  {
   "cell_type": "markdown",
   "metadata": {},
   "source": [
    "# Read Data"
   ]
  },
  {
   "cell_type": "code",
   "execution_count": null,
   "metadata": {},
   "outputs": [],
   "source": [
    "locs = load_locs(loc_file)  # contains x,y,z in the first 3 columns\n",
    "locs = locs[0:500, :]\n",
    "print('only top 500 blobs kept', locs.shape)"
   ]
  },
  {
   "cell_type": "code",
   "execution_count": null,
   "metadata": {},
   "outputs": [],
   "source": [
    "czi = read_czi(czi_file)  # image array of 4 scanned areas\n",
    "image = parse_image_arrays(czi, i=image_index)  # one of the scanned areas, takes 30s to load\n",
    "czi=[] # release RAM\n",
    "# np.save(\"image.npy\", image)  # save temp file for quick reload\n",
    "# image = np.load('image.npy')"
   ]
  },
  {
   "cell_type": "markdown",
   "metadata": {},
   "source": [
    "# View Data\n",
    "Tip: you can run this many many times to pre-view blobs, and generate your baseline of classification, before you start labeling"
   ]
  },
  {
   "cell_type": "code",
   "execution_count": null,
   "metadata": {},
   "outputs": [],
   "source": [
    "i = np.random.choice(len(locs))\n",
    "print('showing blob {}'.format(i))\n",
    "\n",
    "crops = crop_blobs(locs[i:i+1], image, crop_width=400)  # User can change crop_width, 500 for overview\n",
    "p = plot_flat_crop(crops[0, :],  image_scale=1)"
   ]
  },
  {
   "cell_type": "markdown",
   "metadata": {},
   "source": [
    "## Labeling\n"
   ]
  },
  {
   "cell_type": "code",
   "execution_count": null,
   "metadata": {},
   "outputs": [],
   "source": [
    "crops = crop_blobs(locs, image, crop_width=200) # can take 30s"
   ]
  },
  {
   "cell_type": "code",
   "execution_count": null,
   "metadata": {
    "scrolled": true
   },
   "outputs": [],
   "source": [
    "crops = pop_label_flat_crops(crops, random = True, seed = 1, skip_labels = [0, 1])"
   ]
  },
  {
   "cell_type": "markdown",
   "metadata": {},
   "source": [
    "## Save"
   ]
  },
  {
   "cell_type": "code",
   "execution_count": null,
   "metadata": {},
   "outputs": [],
   "source": [
    "# decide output name and save\n",
    "locs[:, 3] = crops[:, 3]\n",
    "s = input (\"would you like to save/over-write {} ? (y/n)\".format(out_name))\n",
    "if s == 'y':\n",
    "    save_crops(locs, out_name)\n",
    "else:\n",
    "    print('exit without saving')"
   ]
  },
  {
   "cell_type": "markdown",
   "metadata": {},
   "source": [
    "# Review Labeled DB (Optional)"
   ]
  },
  {
   "cell_type": "code",
   "execution_count": null,
   "metadata": {},
   "outputs": [],
   "source": [
    "labeled = load_crops(out_name)"
   ]
  },
  {
   "cell_type": "code",
   "execution_count": null,
   "metadata": {},
   "outputs": [],
   "source": [
    "## labeled as YES\n",
    "_ = show_rand_crops(crops=labeled, label_filter=1, num_shown=3)"
   ]
  },
  {
   "cell_type": "code",
   "execution_count": null,
   "metadata": {},
   "outputs": [],
   "source": [
    "## labeled as NO\n",
    "_ = show_rand_crops(crops=labeled, label_filter=0, num_shown=2)"
   ]
  },
  {
   "cell_type": "code",
   "execution_count": null,
   "metadata": {},
   "outputs": [],
   "source": [
    "# any label (Optional)\n",
    "_ = show_rand_crops(crops=labeled, label_filter='na', num_shown=3)"
   ]
  },
  {
   "cell_type": "markdown",
   "metadata": {},
   "source": [
    "## Unsupervised classification (overview of blobs) (Optional)"
   ]
  },
  {
   "cell_type": "code",
   "execution_count": null,
   "metadata": {},
   "outputs": [],
   "source": [
    "crops_stat(crops)"
   ]
  },
  {
   "cell_type": "code",
   "execution_count": null,
   "metadata": {},
   "outputs": [],
   "source": [
    "cluster_info = pd.DataFrame(crops[:, 3], columns=['cluster_id'])\n",
    "tsne_df = pca_tsne(pd.DataFrame(crops), cluster_info=cluster_info)"
   ]
  },
  {
   "cell_type": "markdown",
   "metadata": {},
   "source": [
    "# Save notebook for review"
   ]
  },
  {
   "cell_type": "code",
   "execution_count": null,
   "metadata": {},
   "outputs": [],
   "source": [
    "%%javascript\n",
    "IPython.notebook.save_notebook()"
   ]
  },
  {
   "cell_type": "code",
   "execution_count": null,
   "metadata": {},
   "outputs": [],
   "source": [
    "!jupyter nbconvert --to html labeling.ipynb"
   ]
  },
  {
   "cell_type": "code",
   "execution_count": null,
   "metadata": {},
   "outputs": [],
   "source": [
    "nb_name = name + '.labeling.ipynb'\n",
    "html_name = name + \".labeling.html\"\n",
    "!echo $html_name $nb_name\n",
    "!cp labeling.ipynb $nb_name\n",
    "!mv labeling.html $html_name"
   ]
  },
  {
   "cell_type": "code",
   "execution_count": null,
   "metadata": {},
   "outputs": [],
   "source": []
  }
 ],
 "metadata": {
  "kernelspec": {
   "display_name": "ccount-env",
   "language": "python",
   "name": "ccount-env"
  },
  "language_info": {
   "codemirror_mode": {
    "name": "ipython",
    "version": 3
   },
   "file_extension": ".py",
   "mimetype": "text/x-python",
   "name": "python",
   "nbconvert_exporter": "python",
   "pygments_lexer": "ipython3",
   "version": "3.6.13"
  }
 },
 "nbformat": 4,
 "nbformat_minor": 2
}
