{
 "cells": [
  {
   "cell_type": "code",
   "execution_count": 15,
   "metadata": {},
   "outputs": [],
   "source": [
    "import sys\n",
    "sys.path.append('/home/socolovsky_lab/ccount/ccount/workflow/scripts')\n",
    "from ccount.blob.io import load_locs, save_crops, load_crops\n",
    "from ccount.blob.misc import crops_stat\n",
    "from ccount.clas.pca_tsne import pca_tsne\n",
    "\n",
    "\n",
    "from ccount.img.read_czi import read_czi, parse_image_arrays\n",
    "from ccount.blob.crop_blobs import crop_blobs\n",
    "from ccount.blob.plot import plot_flat_crop, plot_flat_crops, pop_label_flat_crops, show_rand_crops\n",
    "\n",
    "import numpy as np\n",
    "import pandas as pd\n",
    "import subprocess\n",
    "\n",
    "import matplotlib\n",
    "import matplotlib.pyplot as plt\n",
    "%matplotlib inline"
   ]
  },
  {
   "cell_type": "code",
   "execution_count": 16,
   "metadata": {},
   "outputs": [
    {
     "name": "stdout",
     "output_type": "stream",
     "text": [
      "\u001b[0m\u001b[01;32m1unitEpo_1-Stitching-01.0.locs.npy.gz\u001b[0m*\r\n",
      "\u001b[01;32m1unitEpo_1-Stitching-01.1.locs.npy.gz\u001b[0m*\r\n",
      "\u001b[01;32m1unitEpo_1-Stitching-01.2.locs.npy.gz\u001b[0m*\r\n",
      "\u001b[01;32m1unitEpo_1-Stitching-01.3.locs.npy.gz\u001b[0m*\r\n",
      "\u001b[01;32m1unitEpo_2-Stitching-02.0.locs.npy.gz\u001b[0m*\r\n",
      "\u001b[01;32m1unitEpo_2-Stitching-02.1.locs.npy.gz\u001b[0m*\r\n",
      "\u001b[01;32m1unitEpo_2-Stitching-02.2.locs.npy.gz\u001b[0m*\r\n",
      "\u001b[01;32m1unitEpo_2-Stitching-02.3.locs.npy.gz\u001b[0m*\r\n",
      "\u001b[01;32m1unitEpo_3-Stitching-03.0.locs.npy.gz\u001b[0m*\r\n",
      "\u001b[01;32m1unitEpo_3-Stitching-03.1.locs.npy.gz\u001b[0m*\r\n",
      "\u001b[01;32m1unitEpo_3-Stitching-03.2.locs.npy.gz\u001b[0m*\r\n",
      "\u001b[01;32m1unitEpo_3-Stitching-03.3.locs.npy.gz\u001b[0m*\r\n",
      "\u001b[01;32m1unitEpo_4-Stitching-04.0.locs.npy.gz\u001b[0m*\r\n",
      "\u001b[01;32m1unitEpo_4-Stitching-04.1.locs.npy.gz\u001b[0m*\r\n",
      "\u001b[01;32m1unitEpo_4-Stitching-04.2.locs.npy.gz\u001b[0m*\r\n",
      "\u001b[01;32m1unitEpo_4-Stitching-04.3.locs.npy.gz\u001b[0m*\r\n",
      "\u001b[01;32mNoEpo_1-Stitching-05.0.locs.npy.gz\u001b[0m*\r\n",
      "\u001b[01;32mNoEpo_1-Stitching-05.1.locs.npy.gz\u001b[0m*\r\n",
      "\u001b[01;32mNoEpo_1-Stitching-05.2.locs.npy.gz\u001b[0m*\r\n",
      "\u001b[01;32mNoEpo_1-Stitching-05.3.locs.npy.gz\u001b[0m*\r\n",
      "\u001b[01;32mNoEpo_2-Stitching-06.0.locs.npy.gz\u001b[0m*\r\n",
      "\u001b[01;32mNoEpo_2-Stitching-06.1.locs.npy.gz\u001b[0m*\r\n",
      "\u001b[01;32mNoEpo_2-Stitching-06.2.locs.npy.gz\u001b[0m*\r\n",
      "\u001b[01;32mNoEpo_2-Stitching-06.3.locs.npy.gz\u001b[0m*\r\n",
      "\u001b[01;32mNoEpo_3-Stitching-07.0.locs.npy.gz\u001b[0m*\r\n",
      "\u001b[01;32mNoEpo_3-Stitching-07.1.locs.npy.gz\u001b[0m*\r\n",
      "\u001b[01;32mNoEpo_3-Stitching-07.2.locs.npy.gz\u001b[0m*\r\n",
      "\u001b[01;32mNoEpo_3-Stitching-07.3.locs.npy.gz\u001b[0m*\r\n",
      "\u001b[01;32mNoEpo_4-Stitching-08.0.locs.npy.gz\u001b[0m*\r\n",
      "\u001b[01;32mNoEpo_4-Stitching-08.1.locs.npy.gz\u001b[0m*\r\n",
      "\u001b[01;32mNoEpo_4-Stitching-08.2.locs.npy.gz\u001b[0m*\r\n",
      "\u001b[01;32mNoEpo_4-Stitching-08.3.locs.npy.gz\u001b[0m*\r\n",
      "\u001b[01;32mpoint0625unitsEpo_1-Stitching-21.0.locs.npy.gz\u001b[0m*\r\n",
      "\u001b[01;32mpoint0625unitsEpo_1-Stitching-21.1.locs.npy.gz\u001b[0m*\r\n",
      "\u001b[01;32mpoint0625unitsEpo_1-Stitching-21.2.locs.npy.gz\u001b[0m*\r\n",
      "\u001b[01;32mpoint0625unitsEpo_1-Stitching-21.3.locs.npy.gz\u001b[0m*\r\n",
      "\u001b[01;32mpoint0625unitsEpo_2-Stitching-22.0.locs.npy.gz\u001b[0m*\r\n",
      "\u001b[01;32mpoint0625unitsEpo_2-Stitching-22.1.locs.npy.gz\u001b[0m*\r\n",
      "\u001b[01;32mpoint0625unitsEpo_2-Stitching-22.2.locs.npy.gz\u001b[0m*\r\n",
      "\u001b[01;32mpoint0625unitsEpo_2-Stitching-22.3.locs.npy.gz\u001b[0m*\r\n",
      "\u001b[01;32mpoint0625unitsEpo_3-Stitching-23.0.locs.npy.gz\u001b[0m*\r\n",
      "\u001b[01;32mpoint0625unitsEpo_3-Stitching-23.1.locs.npy.gz\u001b[0m*\r\n",
      "\u001b[01;32mpoint0625unitsEpo_3-Stitching-23.2.locs.npy.gz\u001b[0m*\r\n",
      "\u001b[01;32mpoint0625unitsEpo_3-Stitching-23.3.locs.npy.gz\u001b[0m*\r\n",
      "\u001b[01;32mpoint0625unitsEpo_4-Stitching-24.0.locs.npy.gz\u001b[0m*\r\n",
      "\u001b[01;32mpoint0625unitsEpo_4-Stitching-24.1.locs.npy.gz\u001b[0m*\r\n",
      "\u001b[01;32mpoint0625unitsEpo_4-Stitching-24.2.locs.npy.gz\u001b[0m*\r\n",
      "\u001b[01;32mpoint0625unitsEpo_4-Stitching-24.3.locs.npy.gz\u001b[0m*\r\n",
      "\u001b[01;32mpoint125unitsEpo_1-Stitching-17.0.locs.npy.gz\u001b[0m*\r\n",
      "\u001b[01;32mpoint125unitsEpo_1-Stitching-17.1.locs.npy.gz\u001b[0m*\r\n",
      "\u001b[01;32mpoint125unitsEpo_1-Stitching-17.2.locs.npy.gz\u001b[0m*\r\n",
      "\u001b[01;32mpoint125unitsEpo_1-Stitching-17.3.locs.npy.gz\u001b[0m*\r\n",
      "\u001b[01;32mpoint125unitsEpo_2-Stitching-18.0.locs.npy.gz\u001b[0m*\r\n",
      "\u001b[01;32mpoint125unitsEpo_2-Stitching-18.1.locs.npy.gz\u001b[0m*\r\n",
      "\u001b[01;32mpoint125unitsEpo_2-Stitching-18.2.locs.npy.gz\u001b[0m*\r\n",
      "\u001b[01;32mpoint125unitsEpo_2-Stitching-18.3.locs.npy.gz\u001b[0m*\r\n",
      "\u001b[01;32mpoint125unitsEpo_3-Stitching-19.0.locs.npy.gz\u001b[0m*\r\n",
      "\u001b[01;32mpoint125unitsEpo_3-Stitching-19.1.locs.npy.gz\u001b[0m*\r\n",
      "\u001b[01;32mpoint125unitsEpo_3-Stitching-19.2.locs.npy.gz\u001b[0m*\r\n",
      "\u001b[01;32mpoint125unitsEpo_3-Stitching-19.3.locs.npy.gz\u001b[0m*\r\n",
      "\u001b[01;32mpoint125unitsEpo_4-Stitching-20.0.locs.npy.gz\u001b[0m*\r\n",
      "\u001b[01;32mpoint125unitsEpo_4-Stitching-20.1.locs.npy.gz\u001b[0m*\r\n",
      "\u001b[01;32mpoint125unitsEpo_4-Stitching-20.2.locs.npy.gz\u001b[0m*\r\n",
      "\u001b[01;32mpoint125unitsEpo_4-Stitching-20.3.locs.npy.gz\u001b[0m*\r\n",
      "\u001b[01;32mpoint25unitsEpo_1-Stitching-13.0.locs.npy.gz\u001b[0m*\r\n",
      "\u001b[01;32mpoint25unitsEpo_1-Stitching-13.1.locs.npy.gz\u001b[0m*\r\n",
      "\u001b[01;32mpoint25unitsEpo_1-Stitching-13.2.locs.npy.gz\u001b[0m*\r\n",
      "\u001b[01;32mpoint25unitsEpo_1-Stitching-13.3.locs.npy.gz\u001b[0m*\r\n",
      "\u001b[01;32mpoint25unitsEpo_2-Stitching-14.0.locs.npy.gz\u001b[0m*\r\n",
      "\u001b[01;32mpoint25unitsEpo_2-Stitching-14.1.locs.npy.gz\u001b[0m*\r\n",
      "\u001b[01;32mpoint25unitsEpo_2-Stitching-14.2.locs.npy.gz\u001b[0m*\r\n",
      "\u001b[01;32mpoint25unitsEpo_2-Stitching-14.3.locs.npy.gz\u001b[0m*\r\n",
      "\u001b[01;32mpoint25unitsEpo_3-Stitching-15.0.locs.npy.gz\u001b[0m*\r\n",
      "\u001b[01;32mpoint25unitsEpo_3-Stitching-15.1.locs.npy.gz\u001b[0m*\r\n",
      "\u001b[01;32mpoint25unitsEpo_3-Stitching-15.2.locs.npy.gz\u001b[0m*\r\n",
      "\u001b[01;32mpoint25unitsEpo_3-Stitching-15.3.locs.npy.gz\u001b[0m*\r\n",
      "\u001b[01;32mpoint25unitsEpo_4-Stitching-16.0.locs.npy.gz\u001b[0m*\r\n",
      "\u001b[01;32mpoint25unitsEpo_4-Stitching-16.1.locs.npy.gz\u001b[0m*\r\n",
      "\u001b[01;32mpoint25unitsEpo_4-Stitching-16.2.locs.npy.gz\u001b[0m*\r\n",
      "\u001b[01;32mpoint25unitsEpo_4-Stitching-16.3.locs.npy.gz\u001b[0m*\r\n",
      "\u001b[01;32mpoint5unitsEpo_1-Stitching-09.0.locs.npy.gz\u001b[0m*\r\n",
      "\u001b[01;32mpoint5unitsEpo_1-Stitching-09.1.locs.npy.gz\u001b[0m*\r\n",
      "\u001b[01;32mpoint5unitsEpo_1-Stitching-09.2.locs.npy.gz\u001b[0m*\r\n",
      "\u001b[01;32mpoint5unitsEpo_1-Stitching-09.3.locs.npy.gz\u001b[0m*\r\n",
      "\u001b[01;32mpoint5unitsEpo_2-Stitching-10.0.locs.npy.gz\u001b[0m*\r\n",
      "\u001b[01;32mpoint5unitsEpo_2-Stitching-10.1.locs.npy.gz\u001b[0m*\r\n",
      "\u001b[01;32mpoint5unitsEpo_2-Stitching-10.2.locs.npy.gz\u001b[0m*\r\n",
      "\u001b[01;32mpoint5unitsEpo_2-Stitching-10.3.locs.npy.gz\u001b[0m*\r\n",
      "\u001b[01;32mpoint5unitsEpo_3-Stitching-11.0.locs.npy.gz\u001b[0m*\r\n",
      "\u001b[01;32mpoint5unitsEpo_3-Stitching-11.1.locs.npy.gz\u001b[0m*\r\n",
      "\u001b[01;32mpoint5unitsEpo_3-Stitching-11.2.locs.npy.gz\u001b[0m*\r\n",
      "\u001b[01;32mpoint5unitsEpo_3-Stitching-11.3.locs.npy.gz\u001b[0m*\r\n",
      "\u001b[01;32mpoint5unitsEpo_4-Stitching-12.0.locs.npy.gz\u001b[0m*\r\n",
      "\u001b[01;32mpoint5unitsEpo_4-Stitching-12.1.locs.npy.gz\u001b[0m*\r\n",
      "\u001b[01;32mpoint5unitsEpo_4-Stitching-12.2.locs.npy.gz\u001b[0m*\r\n",
      "\u001b[01;32mpoint5unitsEpo_4-Stitching-12.3.locs.npy.gz\u001b[0m*\r\n",
      "\u001b[34;42mvis_blob_detection\u001b[0m/\r\n"
     ]
    }
   ],
   "source": [
    "# show file names of all blobs that needs to be labeled\n",
    "%ls ../../res/blob_locs/\n",
    "#%ls ../../res/classification1/pos/"
   ]
  },
  {
   "cell_type": "markdown",
   "metadata": {},
   "source": [
    "# User Parameters"
   ]
  },
  {
   "cell_type": "code",
   "execution_count": 3,
   "metadata": {},
   "outputs": [],
   "source": [
    "# pos/clas.npy.gz, blob_crops/crops.npy.gz, or blob_locs/locs.npy.gz\n",
    "loc_file = '../../res/blob_locs/point05unitsEpo_1-Stitched.0.locs.npy.gz'  \n",
    "\n",
    "image_index = 0  # 0 if loc_file = 'xxx.0.locs.npy.gz'\n",
    "\n",
    "# corresponding czi file (must match loc_file)\n",
    "czi_file = '../../data/point05unitsEpo_1-Stitched.czi'  \n",
    "\n",
    "## output file name, please don't over-write important files!!!\n",
    "out_name = '../../res/labeled/point05unitsEpo_1-Stitched.0.labeled.npy.gz' # file name to be saved in, will over-write existing files"
   ]
  },
  {
   "cell_type": "code",
   "execution_count": 18,
   "metadata": {},
   "outputs": [],
   "source": [
    "# for testing\n",
    "\n",
    "# pos/clas.npy.gz, blob_crops/crops.npy.gz, or blob_locs/locs.npy.gz\n",
    "loc_file = '../../res2/blob_locs/1unitEpo_1-Stitching-01.0.locs.npy.gz'  \n",
    "\n",
    "image_index = 0  # 0 if loc_file = 'xxx.0.locs.npy.gz'\n",
    "\n",
    "# corresponding czi file (must match loc_file)\n",
    "czi_file = '../../data2/1unitEpo_1-Stitching-01.czi'  \n",
    "\n",
    "## output file name, please don't over-write important files!!!\n",
    "out_name = '../../res2/labeled/1unitEpo_1-Stitching-01.0.labeled.npy.gz' # file name to be saved in, will over-write existing files"
   ]
  },
  {
   "cell_type": "markdown",
   "metadata": {},
   "source": [
    "# Read Data"
   ]
  },
  {
   "cell_type": "code",
   "execution_count": 21,
   "metadata": {},
   "outputs": [
    {
     "name": "stdout",
     "output_type": "stream",
     "text": [
      "../../res2/blob_locs/1unitEpo_1-Stitching-01.0.locs.npy.gz (4659, 3)\n"
     ]
    }
   ],
   "source": [
    "locs = load_locs(loc_file)  # contains x,y,z in the first 3 columns"
   ]
  },
  {
   "cell_type": "code",
   "execution_count": 22,
   "metadata": {},
   "outputs": [
    {
     "name": "stdout",
     "output_type": "stream",
     "text": [
      "read_czi: ../../data2/1unitEpo_1-Stitching-01.czi\n",
      "(4, 1, 70665, 66241, 1)\n"
     ]
    }
   ],
   "source": [
    "czi = read_czi(czi_file)  # image array of 4 scanned areas\n",
    "image = parse_image_arrays(czi, i=image_index)  # one of the scanned areas, takes 30s to load\n",
    "czi=[] # release RAM\n",
    "# np.save(\"image.npy\", image)  # save temp file for quick reload\n",
    "# image = np.load('image.npy')"
   ]
  },
  {
   "cell_type": "markdown",
   "metadata": {},
   "source": [
    "# View Data"
   ]
  },
  {
   "cell_type": "code",
   "execution_count": 39,
   "metadata": {},
   "outputs": [
    {
     "name": "stdout",
     "output_type": "stream",
     "text": [
      "showing blob 4207\n"
     ]
    },
    {
     "data": {
      "image/png": "[encoded data removed]",
      "text/plain": [
       "<Figure size 120x120 with 1 Axes>"
      ]
     },
     "metadata": {
      "needs_background": "light"
     },
     "output_type": "display_data"
    }
   ],
   "source": [
    "i = np.random.choice(len(locs))\n",
    "print('showing blob {}'.format(i))\n",
    "\n",
    "crops = crop_blobs(locs[i:i+1], image, crop_width=50)  # User can change crop_width, 500 for overview\n",
    "p = plot_flat_crop(crops[0, :],  image_scale=1)"
   ]
  },
  {
   "cell_type": "markdown",
   "metadata": {},
   "source": [
    "## Labeling"
   ]
  },
  {
   "cell_type": "code",
   "execution_count": null,
   "metadata": {},
   "outputs": [],
   "source": [
    "crops = crop_blobs(locs, image, crop_width=400)"
   ]
  },
  {
   "cell_type": "code",
   "execution_count": null,
   "metadata": {},
   "outputs": [],
   "source": [
    "crops = pop_label_flat_crops(crops, random = True, seed = 1, skip_labels = [0, 1])"
   ]
  },
  {
   "cell_type": "code",
   "execution_count": null,
   "metadata": {},
   "outputs": [],
   "source": [
    "crops = pop_label_flat_crops(crops, random = True, seed = 1, skip_labels = [0, 1])"
   ]
  },
  {
   "cell_type": "markdown",
   "metadata": {},
   "source": [
    "## Save"
   ]
  },
  {
   "cell_type": "code",
   "execution_count": null,
   "metadata": {},
   "outputs": [],
   "source": [
    "# decide output name and save\n",
    "locs[:, 3] = crops[:, 3]\n",
    "s = input (\"would you like to save/over-write {} ? (y/n)\".format(out_name))\n",
    "if s == 'y':\n",
    "    save_crops(locs, out_name)\n",
    "else:\n",
    "    print('exit without saving')"
   ]
  },
  {
   "cell_type": "markdown",
   "metadata": {},
   "source": [
    "# Review Labeled DB (Optional)"
   ]
  },
  {
   "cell_type": "code",
   "execution_count": null,
   "metadata": {},
   "outputs": [],
   "source": [
    "labeled = load_crops(out_name)"
   ]
  },
  {
   "cell_type": "code",
   "execution_count": null,
   "metadata": {},
   "outputs": [],
   "source": [
    "## labeled as YES\n",
    "_ = show_rand_crops(crops=labeled, label_filter=1, num_shown=3)"
   ]
  },
  {
   "cell_type": "code",
   "execution_count": null,
   "metadata": {},
   "outputs": [],
   "source": [
    "## labeled as NO\n",
    "_ = show_rand_crops(crops=labeled, label_filter=0, num_shown=2)"
   ]
  },
  {
   "cell_type": "code",
   "execution_count": null,
   "metadata": {},
   "outputs": [],
   "source": [
    "# any label (Optional)\n",
    "_ = show_rand_crops(crops=labeled, label_filter='na', num_shown=3)"
   ]
  },
  {
   "cell_type": "markdown",
   "metadata": {},
   "source": [
    "## Unsupervised classification (overview of blobs) (Optional)"
   ]
  },
  {
   "cell_type": "code",
   "execution_count": null,
   "metadata": {},
   "outputs": [],
   "source": [
    "crops_stat(crops)"
   ]
  },
  {
   "cell_type": "code",
   "execution_count": null,
   "metadata": {},
   "outputs": [],
   "source": [
    "cluster_info = pd.DataFrame(crops[:, 3], columns=['cluster_id'])\n",
    "tsne_df = pca_tsne(pd.DataFrame(crops), cluster_info=cluster_info)"
   ]
  },
  {
   "cell_type": "code",
   "execution_count": null,
   "metadata": {},
   "outputs": [],
   "source": []
  }
 ],
 "metadata": {
  "kernelspec": {
   "display_name": "ccount-env",
   "language": "python",
   "name": "ccount-env"
  },
  "language_info": {
   "codemirror_mode": {
    "name": "ipython",
    "version": 3
   },
   "file_extension": ".py",
   "mimetype": "text/x-python",
   "name": "python",
   "nbconvert_exporter": "python",
   "pygments_lexer": "ipython3",
   "version": "3.6.13"
  }
 },
 "nbformat": 4,
 "nbformat_minor": 2
}
