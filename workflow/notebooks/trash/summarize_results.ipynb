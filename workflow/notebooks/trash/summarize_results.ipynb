{
 "cells": [
  {
   "cell_type": "code",
   "execution_count": 1,
   "metadata": {},
   "outputs": [],
   "source": [
    "import numpy as np\n",
    "import matplotlib.pyplot as plt\n",
    "import re"
   ]
  },
  {
   "cell_type": "code",
   "execution_count": 2,
   "metadata": {},
   "outputs": [],
   "source": [
    "fname=\"../run2_IL17a_Fusion_CFUe_28FEB20/count/COUNT.txt\""
   ]
  },
  {
   "cell_type": "code",
   "execution_count": 3,
   "metadata": {},
   "outputs": [
    {
     "data": {
      "text/plain": [
       "['log/filter2/Epo_0_1_IL17a_Comm_10_Plate1_28FEB20_Stitched.2.log:Predictions: mean: 0.045723172628304824, count_yes: 147 / 3215;\\n',\n",
       " 'log/filter2/Epo_0_1_IL17a_Comm_10_Plate2_28FEB20_Stitched.2.log:Predictions: mean: 0.06033084657800843, count_yes: 186 / 3083;\\n',\n",
       " 'log/filter2/Epo_0_1_IL17a_Comm_10_Plate3_28FEB20_Stitched.2.log:Predictions: mean: 0.052076875387476754, count_yes: 168 / 3226;\\n',\n",
       " 'log/filter2/Epo_0_1_IL17a_Fusion_25_Plate1_28FEB20_Stitched.2.log:Predictions: mean: 0.048672566371681415, count_yes: 143 / 2938;\\n',\n",
       " 'log/filter2/Epo_0_1_IL17a_Fusion_25_Plate2_28FEB20_Stitched.2.log:Predictions: mean: 0.05143620574482298, count_yes: 154 / 2994;\\n',\n",
       " 'log/filter2/Epo_0_1_IL17a_Fusion_25_Plate3_28FEB20_Stitched.2.log:Predictions: mean: 0.05559515324305061, count_yes: 156 / 2806;\\n',\n",
       " 'log/filter2/Epo_0_1_IL17a_Fusion_50_Plate1_28FEB20_Stitched.2.log:Predictions: mean: 0.04361263736263736, count_yes: 127 / 2912;\\n',\n",
       " 'log/filter2/Epo_0_1_IL17a_Fusion_50_Plate2_28FEB20_Stitched.2.log:Predictions: mean: 0.047479674796747966, count_yes: 146 / 3075;\\n',\n",
       " 'log/filter2/Epo_0_1_IL17a_Fusion_50_Plate3_28FEB20_Stitched.2.log:Predictions: mean: 0.05557309756867698, count_yes: 176 / 3167;\\n',\n",
       " 'log/filter2/Epo_0_1_Plate1_28FEB20_Stitched.2.log:Predictions: mean: 0.0769489247311828, count_yes: 229 / 2976;\\n',\n",
       " 'log/filter2/Epo_0_1_Plate2_28FEB20_Stitched.2.log:Predictions: mean: 0.09717964438994482, count_yes: 317 / 3262;\\n',\n",
       " 'log/filter2/Epo_0_1_Plate3_28FEB20_Stitched.2.log:Predictions: mean: 0.08097686375321336, count_yes: 252 / 3112;\\n',\n",
       " 'log/filter2/Epo_0_5_IL17a_Comm_10_Plate1_28FEB20_Stitched.2.log:Predictions: mean: 0.09349220898258478, count_yes: 306 / 3273;\\n',\n",
       " 'log/filter2/Epo_0_5_IL17a_Comm_10_Plate2_28FEB20_Stitched.2.log:Predictions: mean: 0.10110584518167456, count_yes: 320 / 3165;\\n',\n",
       " 'log/filter2/Epo_0_5_IL17a_Comm_10_Plate3_28FEB20_Stitched.2.log:Predictions: mean: 0.08654152083996182, count_yes: 272 / 3143;\\n',\n",
       " 'log/filter2/Epo_0_5_IL17a_Fusion_25_Plate1_28FEB20_Stitched.2.log:Predictions: mean: 0.07951171230616957, count_yes: 241 / 3031;\\n',\n",
       " 'log/filter2/Epo_0_5_IL17a_Fusion_25_Plate2_28FEB20_Stitched.2.log:Predictions: mean: 0.0769752458460495, count_yes: 227 / 2949;\\n',\n",
       " 'log/filter2/Epo_0_5_IL17a_Fusion_25_Plate3_28FEB20_Stitched.2.log:Predictions: mean: 0.04100069492703266, count_yes: 118 / 2878;\\n']"
      ]
     },
     "execution_count": 3,
     "metadata": {},
     "output_type": "execute_result"
    }
   ],
   "source": [
    "with open(fname) as f:\n",
    "    content = f.readlines() \n",
    "    \n",
    "content"
   ]
  },
  {
   "cell_type": "code",
   "execution_count": 4,
   "metadata": {},
   "outputs": [
    {
     "data": {
      "text/plain": [
       "[147, 186]"
      ]
     },
     "execution_count": 4,
     "metadata": {},
     "output_type": "execute_result"
    }
   ],
   "source": [
    "counts = [re.findall(\"count_yes: \\d*\", l)[0] for l in content]\n",
    "counts = [int(c.replace(\"count_yes: \", \"\")) for c in counts]\n",
    "counts[0:2]"
   ]
  },
  {
   "cell_type": "code",
   "execution_count": 5,
   "metadata": {},
   "outputs": [
    {
     "data": {
      "text/plain": [
       "['/Epo_0_1_IL17a_Comm_10_Plate1_28',\n",
       " '/Epo_0_1_IL17a_Comm_10_Plate2_28',\n",
       " '/Epo_0_1_IL17a_Comm_10_Plate3_28',\n",
       " '/Epo_0_1_IL17a_Fusion_25_Plate1_28',\n",
       " '/Epo_0_1_IL17a_Fusion_25_Plate2_28',\n",
       " '/Epo_0_1_IL17a_Fusion_25_Plate3_28',\n",
       " '/Epo_0_1_IL17a_Fusion_50_Plate1_28',\n",
       " '/Epo_0_1_IL17a_Fusion_50_Plate2_28',\n",
       " '/Epo_0_1_IL17a_Fusion_50_Plate3_28',\n",
       " '/Epo_0_1_Plate1_28',\n",
       " '/Epo_0_1_Plate2_28',\n",
       " '/Epo_0_1_Plate3_28',\n",
       " '/Epo_0_5_IL17a_Comm_10_Plate1_28',\n",
       " '/Epo_0_5_IL17a_Comm_10_Plate2_28',\n",
       " '/Epo_0_5_IL17a_Comm_10_Plate3_28',\n",
       " '/Epo_0_5_IL17a_Fusion_25_Plate1_28',\n",
       " '/Epo_0_5_IL17a_Fusion_25_Plate2_28',\n",
       " '/Epo_0_5_IL17a_Fusion_25_Plate3_28']"
      ]
     },
     "execution_count": 5,
     "metadata": {},
     "output_type": "execute_result"
    }
   ],
   "source": [
    "info = [re.findall(\"filter2.*_28\", l)[0] for l in content]\n",
    "info = [x.replace(\"filter2\", \"\") for x in info]\n",
    "info"
   ]
  },
  {
   "cell_type": "code",
   "execution_count": 6,
   "metadata": {},
   "outputs": [
    {
     "data": {
      "text/plain": [
       "[('/Epo_0_1_IL17a_Comm_10_Plate1_28', 147),\n",
       " ('/Epo_0_1_IL17a_Comm_10_Plate2_28', 186),\n",
       " ('/Epo_0_1_IL17a_Comm_10_Plate3_28', 168),\n",
       " ('/Epo_0_1_IL17a_Fusion_25_Plate1_28', 143),\n",
       " ('/Epo_0_1_IL17a_Fusion_25_Plate2_28', 154),\n",
       " ('/Epo_0_1_IL17a_Fusion_25_Plate3_28', 156),\n",
       " ('/Epo_0_1_IL17a_Fusion_50_Plate1_28', 127),\n",
       " ('/Epo_0_1_IL17a_Fusion_50_Plate2_28', 146),\n",
       " ('/Epo_0_1_IL17a_Fusion_50_Plate3_28', 176),\n",
       " ('/Epo_0_1_Plate1_28', 229),\n",
       " ('/Epo_0_1_Plate2_28', 317),\n",
       " ('/Epo_0_1_Plate3_28', 252),\n",
       " ('/Epo_0_5_IL17a_Comm_10_Plate1_28', 306),\n",
       " ('/Epo_0_5_IL17a_Comm_10_Plate2_28', 320),\n",
       " ('/Epo_0_5_IL17a_Comm_10_Plate3_28', 272),\n",
       " ('/Epo_0_5_IL17a_Fusion_25_Plate1_28', 241),\n",
       " ('/Epo_0_5_IL17a_Fusion_25_Plate2_28', 227),\n",
       " ('/Epo_0_5_IL17a_Fusion_25_Plate3_28', 118)]"
      ]
     },
     "execution_count": 6,
     "metadata": {},
     "output_type": "execute_result"
    }
   ],
   "source": [
    "[x for x in zip(info, counts)]"
   ]
  },
  {
   "cell_type": "code",
   "execution_count": 7,
   "metadata": {},
   "outputs": [
    {
     "data": {
      "text/plain": [
       "[0, 0, 0, 0, 0, 0, 0, 0, 0, 0, 0, 0, 0, 0, 0, 0, 0, 0]"
      ]
     },
     "execution_count": 7,
     "metadata": {},
     "output_type": "execute_result"
    }
   ],
   "source": [
    "Epo = [re.findall(\"Epo_\\d*\", l)[0] for l in content]\n",
    "Epo = [int(x.replace(\"Epo_\", \"\")) for x in Epo]\n",
    "Epo"
   ]
  },
  {
   "cell_type": "code",
   "execution_count": null,
   "metadata": {},
   "outputs": [],
   "source": [
    "plt.hist(counts)"
   ]
  },
  {
   "cell_type": "code",
   "execution_count": null,
   "metadata": {},
   "outputs": [],
   "source": []
  }
 ],
 "metadata": {
  "kernelspec": {
   "display_name": "Python 3",
   "language": "python",
   "name": "python3"
  },
  "language_info": {
   "codemirror_mode": {
    "name": "ipython",
    "version": 3
   },
   "file_extension": ".py",
   "mimetype": "text/x-python",
   "name": "python",
   "nbconvert_exporter": "python",
   "pygments_lexer": "ipython3",
   "version": "3.7.3"
  }
 },
 "nbformat": 4,
 "nbformat_minor": 2
}
