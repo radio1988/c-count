{
 "cells": [
  {
   "cell_type": "markdown",
   "metadata": {},
   "source": [
    "# Filters detected blob-crops\n",
    "- edge detector filter only\n",
    "- size filter not applied\n",
    "- can merge input npy files of the same name pattern, but don't use it, loc_czi map will be disconnected (one crops file a time)\n",
    "\n",
    "- instruction:\n",
    "    - put under res/filter_merge/ folder\n",
    "    - don't run two instances under the same folder"
   ]
  },
  {
   "cell_type": "code",
   "execution_count": null,
   "metadata": {},
   "outputs": [],
   "source": [
    "#%matplotlib inline\n",
    "import sys\n",
    "from pathlib import Path\n",
    "home = str(Path.home())\n",
    "sys.path.append(home+'/ccount/ccount/workflow/scripts')\n",
    "sys.path.append(home+'/ccount/ccount/workflow/scripts/ccount')\n",
    "import glob\n",
    "import numpy as np\n",
    "import matplotlib.pyplot as plt\n",
    "from ccount_utils.blob import load_blobs\n",
    "from ccount_utils.blob import show_rand_crops\n",
    "import ccount_utils.blob # for remove_edge_crops\n",
    "from ccount_utils.blob import flat2image"
   ]
  },
  {
   "cell_type": "code",
   "execution_count": null,
   "metadata": {},
   "outputs": [],
   "source": [
    "%pwd"
   ]
  },
  {
   "cell_type": "code",
   "execution_count": null,
   "metadata": {},
   "outputs": [],
   "source": [
    "%ls \"../blob_crops\""
   ]
  },
  {
   "cell_type": "markdown",
   "metadata": {},
   "source": [
    "# Load Pre-build crops (cropped images of blobs)"
   ]
  },
  {
   "cell_type": "code",
   "execution_count": null,
   "metadata": {},
   "outputs": [],
   "source": [
    "name = \"E2f4_CFUe_NoEpo_1-Stitching-04.0\"\n",
    "fname_pattern = '../blob_crops/' + name + '.crops.npy.gz'\n",
    "[x for x in glob.iglob(fname_pattern)]"
   ]
  },
  {
   "cell_type": "code",
   "execution_count": null,
   "metadata": {},
   "outputs": [],
   "source": [
    "i = 0\n",
    "for fname in glob.iglob(fname_pattern):\n",
    "    i+=1\n",
    "    print(i, fname)\n",
    "    if (i== 1):\n",
    "        crops = load_blobs(fname)\n",
    "    else:\n",
    "        crop_ = load_blobs(fname)\n",
    "        crops = np.vstack((crops, crop_))\n",
    "    print('merged crops:', crops.shape)"
   ]
  },
  {
   "cell_type": "markdown",
   "metadata": {},
   "source": [
    "# Remove very small blobs"
   ]
  },
  {
   "cell_type": "code",
   "execution_count": null,
   "metadata": {},
   "outputs": [],
   "source": [
    "area_before = crops[:, 6]\n",
    "\n",
    "idx_small = crops[:, 6] <= 2e4\n",
    "show_rand_crops(crops[idx_small,], num_shown=10)\n",
    "\n",
    "idx = crops[:, 6] > 2e4\n",
    "crops = crops[idx, ]\n",
    "print(round(1-sum(idx)/len(idx), 2), 'removed')\n",
    "\n",
    "plt.hist(area_before, 40, alpha=0.5, label = 'before filtering')\n",
    "plt.hist(crops[:, 6], 40, alpha=0.5, label = 'after filtering')\n",
    "plt.title(\"hist of blob area size in pixels\")\n",
    "plt.legend()\n",
    "plt.show()"
   ]
  },
  {
   "cell_type": "markdown",
   "metadata": {},
   "source": [
    "## Remove blobs with edges in the crop"
   ]
  },
  {
   "cell_type": "code",
   "execution_count": null,
   "metadata": {},
   "outputs": [],
   "source": [
    "from importlib import reload  \n",
    "reload(ccount_utils.blob)\n",
    "crops_clean, crops_bad = ccount_utils.blob.remove_edge_crops(crops)\n",
    "print(len(crops_clean), len(crops_bad), round(len(crops_bad)/len(crops), 2))"
   ]
  },
  {
   "cell_type": "code",
   "execution_count": null,
   "metadata": {},
   "outputs": [],
   "source": [
    "area_bad = crops_bad[:,6]\n",
    "area_clean = crops_clean[:,6]\n",
    "\n",
    "plt.hist(area_bad, 40, alpha = 0.5, label = 'bad')\n",
    "plt.hist(area_clean, 40 , alpha = 0.5, label = 'clean')\n",
    "plt.legend(loc='upper right')\n",
    "plt.title(\"Histogram of blob size in pixcels\")\n",
    "plt.show()"
   ]
  },
  {
   "cell_type": "code",
   "execution_count": null,
   "metadata": {},
   "outputs": [],
   "source": [
    "show_rand_crops(crops_bad, num_shown=4)"
   ]
  },
  {
   "cell_type": "code",
   "execution_count": null,
   "metadata": {},
   "outputs": [],
   "source": [
    "show_rand_crops(crops_clean, num_shown=10)"
   ]
  },
  {
   "cell_type": "code",
   "execution_count": null,
   "metadata": {},
   "outputs": [],
   "source": [
    "np.save(name+'.flt', crops_clean)"
   ]
  },
  {
   "cell_type": "code",
   "execution_count": null,
   "metadata": {},
   "outputs": [],
   "source": [
    "!gzip -f *npy"
   ]
  },
  {
   "cell_type": "code",
   "execution_count": null,
   "metadata": {},
   "outputs": [],
   "source": [
    "%ls -lrth"
   ]
  },
  {
   "cell_type": "code",
   "execution_count": null,
   "metadata": {},
   "outputs": [],
   "source": [
    "%%javascript\n",
    "IPython.notebook.save_notebook()"
   ]
  },
  {
   "cell_type": "code",
   "execution_count": null,
   "metadata": {},
   "outputs": [],
   "source": [
    "!jupyter nbconvert --to html filter_merge.ipynb"
   ]
  },
  {
   "cell_type": "code",
   "execution_count": null,
   "metadata": {},
   "outputs": [],
   "source": [
    "nb_name = name + '.filter_merge.ipynb'\n",
    "html_name = name + \".filter_merge.html\"\n",
    "!echo $html_name $nb_name\n",
    "!cp filter_merge.ipynb $nb_name\n",
    "!mv filter_merge.html $html_name"
   ]
  },
  {
   "cell_type": "code",
   "execution_count": null,
   "metadata": {},
   "outputs": [],
   "source": []
  }
 ],
 "metadata": {
  "kernelspec": {
   "display_name": "c-count-env",
   "language": "python",
   "name": "c-count-env"
  },
  "language_info": {
   "codemirror_mode": {
    "name": "ipython",
    "version": 3
   },
   "file_extension": ".py",
   "mimetype": "text/x-python",
   "name": "python",
   "nbconvert_exporter": "python",
   "pygments_lexer": "ipython3",
   "version": "3.6.13"
  }
 },
 "nbformat": 4,
 "nbformat_minor": 2
}
