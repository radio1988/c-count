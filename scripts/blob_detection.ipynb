{
 "cells": [
  {
   "cell_type": "code",
   "execution_count": null,
   "metadata": {},
   "outputs": [],
   "source": [
    "from ccount import *\n",
    "from os import environ\n",
    "\n",
    "#todo: faster list comprehension of cropping"
   ]
  },
  {
   "cell_type": "markdown",
   "metadata": {},
   "source": [
    "## Parameters"
   ]
  },
  {
   "cell_type": "markdown",
   "metadata": {},
   "source": [
    "# you can adjust these parameters to suit your data\n",
    "# for run.sh\n",
    "if environ.get('fname') is not None:\n",
    "    fname = environ['fname']  # for runipy\n",
    "else:\n",
    "    # for notebook running\n",
    "    fname = 'S0_0MMC_c.czi'\n",
    "\n",
    "print('fname:', fname)\n",
    "block_height = 2048 \n",
    "block_width = 2048 # pixcels\n",
    "scaling_factor = 4 # 1: original dimension, 2: 1/2, 4: 1/4"
   ]
  },
  {
   "cell_type": "code",
   "execution_count": null,
   "metadata": {},
   "outputs": [],
   "source": [
    "# please don't change unless necessary\n",
    "blob_extention_ratio = 1.4 # soft extend blob radius manually (1.4)\n",
    "blob_extention_radius = 2 # pixcels to extend (2)\n",
    "crop_width = 400  # padding width, which is cropped img width/2 (50)\n",
    "overlap=.0\n",
    "\n",
    "if scaling_factor == 1:\n",
    "    max_sigma=50 \n",
    "    min_sigma=11\n",
    "    num_sigma=5\n",
    "    threshold=0.15\n",
    "elif scaling_factor == 2:\n",
    "    max_sigma=40\n",
    "    min_sigma=8\n",
    "    num_sigma=5\n",
    "    threshold=0.15\n",
    "elif scaling_factor == 4:\n",
    "    max_sigma=30\n",
    "    min_sigma=4\n",
    "    num_sigma=5\n",
    "    threshold=0.2\n",
    "\n",
    "    \n",
    "detected_dbname = re.sub('.czi$', '.npy', fname)\n",
    "labeled_dbname = re.sub('.czi$', '.labeled.npy', fname)\n",
    "out_img_fname = re.sub('.czi$', '.jpg', fname)\n",
    "equ_img_fname = re.sub('.czi$', '.equ.jpg', fname)"
   ]
  },
  {
   "cell_type": "markdown",
   "metadata": {},
   "source": [
    "## Read whole image (czi)"
   ]
  },
  {
   "cell_type": "code",
   "execution_count": null,
   "metadata": {
    "scrolled": true
   },
   "outputs": [],
   "source": [
    "print(fname)\n",
    "image = read_czi(fname)\n",
    "image = np.divide(image, np.max(image))  # from 0-255 or any range -> 0-1\n",
    "\n",
    "# image = image[0:2048*3, 0:2048*3]\n",
    "\n",
    "dims = np.divide(image.shape, 128) # out jpg size: 256 big, 512 mid, 1024 small"
   ]
  },
  {
   "cell_type": "markdown",
   "metadata": {},
   "source": [
    "## Plot whole image (takes time)"
   ]
  },
  {
   "cell_type": "code",
   "execution_count": null,
   "metadata": {},
   "outputs": [],
   "source": [
    "## Input Image\n",
    "plt.figure(figsize=(dims[0],dims[1]))\n",
    "plt.imshow(image, 'gray')\n",
    "plt.savefig(out_img_fname)"
   ]
  },
  {
   "cell_type": "markdown",
   "metadata": {},
   "source": [
    "## Equalize whole image"
   ]
  },
  {
   "cell_type": "code",
   "execution_count": null,
   "metadata": {},
   "outputs": [],
   "source": [
    "image_equ = block_equalize(image, block_height=2048, block_width=2048)\n",
    "image_equ.shape"
   ]
  },
  {
   "cell_type": "code",
   "execution_count": null,
   "metadata": {},
   "outputs": [],
   "source": [
    "## Equalized image\n",
    "plt.figure(figsize=(dims[0],dims[1]))\n",
    "plt.imshow(image_equ, 'gray')\n",
    "plt.savefig(equ_img_fname)"
   ]
  },
  {
   "cell_type": "markdown",
   "metadata": {},
   "source": [
    "## Find Blobs"
   ]
  },
  {
   "cell_type": "code",
   "execution_count": null,
   "metadata": {},
   "outputs": [],
   "source": [
    "image_flat_crops = find_blobs_and_crop(\n",
    "    image, image_equ,\n",
    "    crop_width=crop_width, \n",
    "    # blob_detection parameters\n",
    "    scaling_factor=scaling_factor,\n",
    "    max_sigma=max_sigma, \n",
    "    min_sigma=min_sigma, \n",
    "    num_sigma=num_sigma, \n",
    "    threshold=threshold, \n",
    "    overlap=overlap,\n",
    "    \n",
    "    # blob yellow circle visualization parameters\n",
    "    blob_extention_ratio=blob_extention_ratio,\n",
    "    blob_extention_radius=blob_extention_radius\n",
    ")"
   ]
  },
  {
   "cell_type": "markdown",
   "metadata": {},
   "source": [
    "## Save all blobs detected (for labeling/training)"
   ]
  },
  {
   "cell_type": "code",
   "execution_count": null,
   "metadata": {},
   "outputs": [],
   "source": [
    "print('there are {} blobs detected'.format(len(image_flat_crops)))\n",
    "print(image_flat_crops.shape)\n",
    "np.save(detected_dbname, image_flat_crops)\n",
    "print('saved into {}'.format(detected_dbname))"
   ]
  },
  {
   "cell_type": "code",
   "execution_count": null,
   "metadata": {},
   "outputs": [],
   "source": [
    "## Histogtam of radius\n",
    "r_ = image_flat_crops[:,2]\n",
    "plt.hist(r_, 40)\n",
    "plt.title(\"Histogram of blob size\")\n",
    "plt.show()"
   ]
  },
  {
   "cell_type": "code",
   "execution_count": null,
   "metadata": {},
   "outputs": [],
   "source": [
    "## show blobs\n",
    "show_rand_crops(crops=image_flat_crops, label_filter='na', num_shown=30, \n",
    "               blob_extention_ratio=blob_extention_ratio, blob_extention_radius=blob_extention_radius)"
   ]
  },
  {
   "cell_type": "code",
   "execution_count": null,
   "metadata": {},
   "outputs": [],
   "source": [
    "## show filtered blobs\n",
    "filtered_blobs = filter_blobs(blobs=image_flat_crops, r_min=50, r_max=800)\n",
    "show_rand_crops(crops=filtered_blobs, label_filter='na', num_shown=10,\n",
    "                blob_extention_ratio=blob_extention_ratio, blob_extention_radius=blob_extention_radius)"
   ]
  }
 ],
 "metadata": {
  "kernelspec": {
   "display_name": "py35",
   "language": "python",
   "name": "py35"
  },
  "language_info": {
   "codemirror_mode": {
    "name": "ipython",
    "version": 3
   },
   "file_extension": ".py",
   "mimetype": "text/x-python",
   "name": "python",
   "nbconvert_exporter": "python",
   "pygments_lexer": "ipython3",
   "version": "3.5.5"
  }
 },
 "nbformat": 4,
 "nbformat_minor": 2
}
