{
 "cells": [
  {
   "cell_type": "code",
   "execution_count": null,
   "metadata": {},
   "outputs": [],
   "source": [
    "%matplotlib inline\n",
    "from ccount import load_blobs_db, show_rand_crops, blobs_stat, pca_tsne, parse_blobs, area_calculation, sub_sample\n",
    "from ccount import save_blobs_db\n",
    "import glob\n",
    "import matplotlib\n",
    "import matplotlib.pyplot as plt\n",
    "from os import environ\n",
    "import numpy as np\n",
    "from math import sqrt\n",
    "import pandas as pd\n",
    "from pathlib import Path\n",
    "import random\n",
    "Path(\"blobs\").mkdir(parents=True, exist_ok=True)\n",
    "Path(\"split_blobs\").mkdir(parents=True, exist_ok=True)\n",
    "Path(\"report\").mkdir(parents=True, exist_ok=True)"
   ]
  },
  {
   "cell_type": "code",
   "execution_count": null,
   "metadata": {},
   "outputs": [],
   "source": [
    "# cmd to run:\n",
    "# dirname=IL17a_Fusion_CFUe_28FEB20 runipy merge.downsample.area_calcu.view.save.ipynb IL17a_Fusion_CFUe_28FEB20.ipynb"
   ]
  },
  {
   "cell_type": "code",
   "execution_count": null,
   "metadata": {},
   "outputs": [],
   "source": [
    "# Params\n",
    "# num of blobs to keep per exp\n",
    "n_total_good_blobs_per_exp = 13000\n",
    "n_total_blobs_per_exp = int(2 * n_total_good_blobs_per_exp) # assuming ~50% good blobs (not too large/small)\n",
    "\n",
    "# filtering blobs based on area in pixels\n",
    "min_area = 500 # default 500\n",
    "max_area = 5000 # default 5000\n",
    "small_blobs_percent_kept = 0 # 0 for best performance, 0.05 for robustness\n",
    "\n",
    "if environ.get('dirname') is not None:\n",
    "    name = environ['dirname']  # for runipy\n",
    "else:\n",
    "    name = \"E2F4_CFUe_14JUN19\" # for notebook"
   ]
  },
  {
   "cell_type": "code",
   "execution_count": null,
   "metadata": {},
   "outputs": [],
   "source": [
    "# get num of blobs to subsample from each experiment\n",
    "n_exp = len([x for x in glob.iglob('../data2/' + name + '/*.npy.gz')])\n",
    "n_each_image = int(n_total_blobs_per_exp / n_exp)\n",
    "print(n_exp, n_each_image)"
   ]
  },
  {
   "cell_type": "code",
   "execution_count": null,
   "metadata": {},
   "outputs": [],
   "source": [
    "# read all blobs from dir\n",
    "i = 0\n",
    "list_crops = []\n",
    "for fname in glob.iglob('../data2/' + name + '/*.npy.gz'):\n",
    "    i+=1\n",
    "    print(i, fname)\n",
    "    crops_ = load_blobs_db(fname, n_each_image)\n",
    "    list_crops.append(crops_)\n",
    "crops =  np.concatenate(list_crops, axis=0)\n",
    "print('merged crops:', crops.shape)"
   ]
  },
  {
   "cell_type": "code",
   "execution_count": null,
   "metadata": {},
   "outputs": [],
   "source": [
    "# hist of blob diameter\n",
    "w = int(sqrt(crops.shape[1]-6)) # padding width & cropped img width/2\n",
    "r_ = crops[:,2]\n",
    "plt.hist(r_, 40)\n",
    "plt.show()"
   ]
  },
  {
   "cell_type": "code",
   "execution_count": null,
   "metadata": {},
   "outputs": [],
   "source": [
    "show_rand_crops(crops=crops, label_filter=1, num_shown=5)"
   ]
  },
  {
   "cell_type": "code",
   "execution_count": null,
   "metadata": {},
   "outputs": [],
   "source": [
    "show_rand_crops(crops=crops, label_filter=0, num_shown=5)"
   ]
  },
  {
   "cell_type": "code",
   "execution_count": null,
   "metadata": {},
   "outputs": [],
   "source": [
    "show_rand_crops(crops=crops, label_filter=-2, num_shown=5)"
   ]
  },
  {
   "cell_type": "code",
   "execution_count": null,
   "metadata": {},
   "outputs": [],
   "source": [
    "x = show_rand_crops(crops=crops, label_filter=\"na\", num_shown=10)"
   ]
  },
  {
   "cell_type": "code",
   "execution_count": null,
   "metadata": {},
   "outputs": [],
   "source": [
    "blobs_stat(crops)"
   ]
  },
  {
   "cell_type": "markdown",
   "metadata": {},
   "source": [
    "# Area calculation"
   ]
  },
  {
   "cell_type": "code",
   "execution_count": null,
   "metadata": {},
   "outputs": [],
   "source": [
    "# calculation\n",
    "Images, Labels, Rs = parse_blobs(crops)\n",
    "areas = [area_calculation(image, r=Rs[ind], plotting=False) for ind, image in enumerate(Images)]"
   ]
  },
  {
   "cell_type": "code",
   "execution_count": null,
   "metadata": {},
   "outputs": [],
   "source": [
    "# hist\n",
    "plt.hist(areas, 40)\n",
    "plt.title(\"Blob area in pixcels\")\n",
    "plt.show()"
   ]
  },
  {
   "cell_type": "code",
   "execution_count": null,
   "metadata": {},
   "outputs": [],
   "source": [
    "# small blobs\n",
    "idx = [(x > 0 and x <min_area) for x in areas]\n",
    "small_blobs = crops[idx,:]\n",
    "print(\"num small blobs\", len(small_blobs))\n",
    "_ = show_rand_crops(small_blobs, plot_area=False)"
   ]
  },
  {
   "cell_type": "code",
   "execution_count": null,
   "metadata": {},
   "outputs": [],
   "source": [
    "# good blobs kept for labeling and ccount\n",
    "idx2 = [(x > min_area and x < max_area) for x in areas]\n",
    "good_blobs = crops[idx2,:]\n",
    "print(\"num good blobs\", len(good_blobs))\n",
    "_ = show_rand_crops(good_blobs, plot_area=False)"
   ]
  },
  {
   "cell_type": "code",
   "execution_count": null,
   "metadata": {},
   "outputs": [],
   "source": [
    "# huge blobs\n",
    "idx3 = [(x > max_area) for x in areas]\n",
    "huge_blobs = crops[idx3,:]\n",
    "print(\"num huge blobs\", len(huge_blobs))\n",
    "_ = show_rand_crops(huge_blobs, plot_area=False)"
   ]
  },
  {
   "cell_type": "code",
   "execution_count": null,
   "metadata": {},
   "outputs": [],
   "source": [
    "print(\"too small\")\n",
    "blobs_stat(small_blobs)\n",
    "print(\"good:\")\n",
    "blobs_stat(good_blobs)\n",
    "print(\"too large:\")\n",
    "blobs_stat(huge_blobs)\n",
    "print(\"total:\")\n",
    "blobs_stat(crops)"
   ]
  },
  {
   "cell_type": "markdown",
   "metadata": {},
   "source": [
    "# PCA overview"
   ]
  },
  {
   "cell_type": "code",
   "execution_count": null,
   "metadata": {},
   "outputs": [],
   "source": [
    "cluster_info = pd.DataFrame([int(x) - int(y)  for x, y in zip(idx3, idx)], columns=['BlobsKept']) # too big as 1, too small as -1\n",
    "tsne_df = pca_tsne(pd.DataFrame(crops), cluster_info=cluster_info, \n",
    "                  title = \"too big as 1, too small as -1\")"
   ]
  },
  {
   "cell_type": "code",
   "execution_count": null,
   "metadata": {},
   "outputs": [],
   "source": [
    "# Save results as a whole (skipped for RAM issues)\n",
    "n_good = good_blobs.shape[0]\n",
    "small_blobs_sample = sub_sample(small_blobs, int(n_good * 0))  # skipped for best ML performance\n",
    "out_blobs = np.vstack((good_blobs, small_blobs_sample))\n",
    "\n",
    "n_out = out_blobs.shape[0]\n",
    "np.random.seed(1)\n",
    "out_blobs = out_blobs[np.random.choice(n_out, n_out, replace = False), :] # randomized\n",
    "np.random.seed()\n",
    "\n",
    "# save_blobs_db(out_blobs[0:13000, ], \"blobs/\" + name + \".npy\")\n",
    "#print(\"saved \", out_blobs.shape[0] , \"blobs into: \", \"blobs/\" + name + \".npy\")\n",
    "print(\"Got \", out_blobs.shape[0] , \"blobs\")\n",
    "print(n_good, \"good blobs, \", int(n_good * 0), \"too small blobs\", 0, \"too large blobs\")"
   ]
  },
  {
   "cell_type": "code",
   "execution_count": null,
   "metadata": {},
   "outputs": [],
   "source": [
    "# Save all in 500 split\n",
    "import string\n",
    "\n",
    "bsize = int(500)\n",
    "m = out_blobs.shape[0]//500\n",
    "m = min(m, 26) # max to z\n",
    "print(m, \"files\")\n",
    "\n",
    "for i in range(0, m):\n",
    "    idx_ = range(i*bsize, bsize*(i+1))\n",
    "    mark = list(string.ascii_lowercase)[i]\n",
    "    oname = \"split_blobs/\" + name + \".\" + mark + \".npy\"\n",
    "    print(oname , min(idx_), max(idx_))\n",
    "    _ = out_blobs[idx_, :]\n",
    "    #np.save(oname, _)\n",
    "    save_blobs_db(_, oname)"
   ]
  },
  {
   "cell_type": "code",
   "execution_count": null,
   "metadata": {},
   "outputs": [],
   "source": [
    "import psutil\n",
    "psutil.virtual_memory()"
   ]
  },
  {
   "cell_type": "code",
   "execution_count": null,
   "metadata": {},
   "outputs": [],
   "source": []
  }
 ],
 "metadata": {
  "kernelspec": {
   "display_name": "py36",
   "language": "python",
   "name": "py36"
  },
  "language_info": {
   "codemirror_mode": {
    "name": "ipython",
    "version": 3
   },
   "file_extension": ".py",
   "mimetype": "text/x-python",
   "name": "python",
   "nbconvert_exporter": "python",
   "pygments_lexer": "ipython3",
   "version": "3.6.9"
  }
 },
 "nbformat": 4,
 "nbformat_minor": 2
}
