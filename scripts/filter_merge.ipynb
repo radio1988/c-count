{
 "cells": [
  {
   "cell_type": "code",
   "execution_count": null,
   "metadata": {},
   "outputs": [],
   "source": [
    "%matplotlib inline\n",
    "from ccount import *"
   ]
  },
  {
   "cell_type": "markdown",
   "metadata": {},
   "source": [
    "# Load Pre-build crops (cropped images of blobs)"
   ]
  },
  {
   "cell_type": "code",
   "execution_count": null,
   "metadata": {},
   "outputs": [],
   "source": [
    "ls ../*npy*gz"
   ]
  },
  {
   "cell_type": "code",
   "execution_count": null,
   "metadata": {},
   "outputs": [],
   "source": [
    "import glob\n",
    "\n",
    "i = 0\n",
    "for fname in glob.iglob('..//*.npy*'):\n",
    "    i+=1\n",
    "    print(i, fname)\n",
    "    if (i== 1):\n",
    "        crops = load_blobs_db(fname)\n",
    "    else:\n",
    "        crop_ = load_blobs_db(fname)\n",
    "        crops = np.vstack((crops, crop_))\n",
    "    print('merged crops:', crops.shape)"
   ]
  },
  {
   "cell_type": "markdown",
   "metadata": {},
   "source": [
    "## Filter blobs based on size"
   ]
  },
  {
   "cell_type": "markdown",
   "metadata": {},
   "source": [
    "### Histogram"
   ]
  },
  {
   "cell_type": "code",
   "execution_count": null,
   "metadata": {},
   "outputs": [],
   "source": [
    "r_ = crops[:,2]\n",
    "plt.hist(r_, 40)\n",
    "plt.title(\"Histogram of blob size\")\n",
    "plt.show()"
   ]
  },
  {
   "cell_type": "code",
   "execution_count": null,
   "metadata": {},
   "outputs": [],
   "source": [
    "## Filtering Params\n",
    "num_shown = 20\n",
    "min_mid = 50  # mid is target\n",
    "min_large = 100\n"
   ]
  },
  {
   "cell_type": "code",
   "execution_count": null,
   "metadata": {},
   "outputs": [],
   "source": [
    "small_crops = filter_blobs(crops, 0, min_mid)\n",
    "mid_crops = filter_blobs(crops, min_mid, min_large)\n",
    "large_crops = filter_blobs(crops, min_large, 10000000)"
   ]
  },
  {
   "cell_type": "code",
   "execution_count": null,
   "metadata": {},
   "outputs": [],
   "source": [
    "## small_blobs\n",
    "print('there are {} small blobs'.format(len(small_crops)))\n",
    "show_rand_crops(crops=small_crops, num_shown=num_shown)"
   ]
  },
  {
   "cell_type": "code",
   "execution_count": null,
   "metadata": {},
   "outputs": [],
   "source": [
    "## mid_blobs\n",
    "print('there are {} mid blobs'.format(len(mid_crops)))\n",
    "show_rand_crops(crops=mid_crops, num_shown=num_shown)"
   ]
  },
  {
   "cell_type": "code",
   "execution_count": null,
   "metadata": {},
   "outputs": [],
   "source": [
    "## large_blobs\n",
    "print('there are {} large blobs'.format(len(large_crops)))\n",
    "show_rand_crops(crops=large_crops, num_shown=num_shown)"
   ]
  },
  {
   "cell_type": "code",
   "execution_count": null,
   "metadata": {},
   "outputs": [],
   "source": [
    "print(small_crops.shape, mid_crops.shape, large_crops.shape)"
   ]
  },
  {
   "cell_type": "code",
   "execution_count": null,
   "metadata": {},
   "outputs": [],
   "source": [
    "#np.save('small.npy', small_crops)\n",
    "np.save('CFUe_7MAY18.mid.npy', mid_crops)\n",
    "np.save('CFUe_7MAY18.large.npy', large_crops)"
   ]
  },
  {
   "cell_type": "code",
   "execution_count": null,
   "metadata": {},
   "outputs": [],
   "source": [
    "!gzip *npy"
   ]
  },
  {
   "cell_type": "code",
   "execution_count": null,
   "metadata": {},
   "outputs": [],
   "source": []
  }
 ],
 "metadata": {
  "kernelspec": {
   "display_name": "py35",
   "language": "python",
   "name": "py35"
  },
  "language_info": {
   "codemirror_mode": {
    "name": "ipython",
    "version": 3
   },
   "file_extension": ".py",
   "mimetype": "text/x-python",
   "name": "python",
   "nbconvert_exporter": "python",
   "pygments_lexer": "ipython3",
   "version": "3.5.5"
  }
 },
 "nbformat": 4,
 "nbformat_minor": 2
}
