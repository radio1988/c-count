{
 "cells": [
  {
   "cell_type": "code",
   "execution_count": null,
   "metadata": {},
   "outputs": [],
   "source": [
    "%matplotlib inline\n",
    "from ccount import *\n",
    "import matplotlib\n",
    "import matplotlib.pyplot as plt"
   ]
  },
  {
   "cell_type": "markdown",
   "metadata": {},
   "source": [
    "## Parameters"
   ]
  },
  {
   "cell_type": "code",
   "execution_count": null,
   "metadata": {},
   "outputs": [],
   "source": [
    "ls *npy*"
   ]
  },
  {
   "cell_type": "code",
   "execution_count": null,
   "metadata": {},
   "outputs": [],
   "source": [
    "ls *labeled*"
   ]
  },
  {
   "cell_type": "code",
   "execution_count": null,
   "metadata": {},
   "outputs": [],
   "source": [
    "# Please change\n",
    "in_name = 'xxx.npy.gz'\n",
    "\n",
    "# Please don't change unless have to\n",
    "block_height = 2048 \n",
    "block_width = 2048 # pixcels\n",
    "\n",
    "blob_extention_ratio = 1.4 # extend blob radius manually (1.4)\n",
    "blob_extention_radius = 30 # pixcels to extend (2)"
   ]
  },
  {
   "cell_type": "markdown",
   "metadata": {},
   "source": [
    "# Load Pre-build crops (cropped images of blobs)"
   ]
  },
  {
   "cell_type": "code",
   "execution_count": null,
   "metadata": {},
   "outputs": [],
   "source": [
    "# load\n",
    "image_flat_crops = load_blobs_db(in_name)\n",
    "w = int(sqrt(image_flat_crops.shape[1]-6)) # padding width & cropped img width/2"
   ]
  },
  {
   "cell_type": "markdown",
   "metadata": {},
   "source": [
    "### Histogram of blob size"
   ]
  },
  {
   "cell_type": "code",
   "execution_count": null,
   "metadata": {},
   "outputs": [],
   "source": [
    "r_ = image_flat_crops[:,2]\n",
    " \n",
    "f, (ax1, ax2) = plt.subplots(1,2, figsize=(14, 7), sharey=False)\n",
    "ax1.hist(r_, 40)\n",
    "ax1.semilogy()\n",
    "ax1.set_title(\"Histogram of blob size (log10 scale)\")\n",
    "ax2.hist(r_, 40)\n",
    "ax2.set_title(\"Histogram of blob size\")"
   ]
  },
  {
   "cell_type": "code",
   "execution_count": null,
   "metadata": {},
   "outputs": [],
   "source": [
    "show_rand_crops(crops=image_flat_crops, label_filter='na', num_shown=5)"
   ]
  },
  {
   "cell_type": "markdown",
   "metadata": {},
   "source": [
    "## Labeling"
   ]
  },
  {
   "cell_type": "code",
   "execution_count": null,
   "metadata": {},
   "outputs": [],
   "source": [
    "image_flat_crops = pop_label_flat_crops(image_flat_crops, random = True, seed = 1, skip_labeled = True)"
   ]
  },
  {
   "cell_type": "markdown",
   "metadata": {},
   "source": [
    "## Save"
   ]
  },
  {
   "cell_type": "code",
   "execution_count": null,
   "metadata": {},
   "outputs": [],
   "source": [
    "# save\n",
    "outname_labeled = input (\"please input file name to save labeled data(e.g. {})\\nto exit without saving 'e':\".format(\"xxx.labeled.npy\"))\n",
    "if outname_labeled == 'e':\n",
    "    print('exit without saving')\n",
    "else:\n",
    "    np.save(outname_labeled.strip(), image_flat_crops)  \n",
    "    print('saved into', outname_labeled.strip())"
   ]
  },
  {
   "cell_type": "code",
   "execution_count": null,
   "metadata": {},
   "outputs": [],
   "source": [
    "%%bash -s \"$outname_labeled\"\n",
    "gzip -f -1 $1"
   ]
  },
  {
   "cell_type": "markdown",
   "metadata": {},
   "source": [
    "# Review Labeled DB"
   ]
  },
  {
   "cell_type": "code",
   "execution_count": null,
   "metadata": {},
   "outputs": [],
   "source": [
    "labeled = load_blobs_db(outname_labeled.strip()+'.gz')\n",
    "#labeled = image_flat_crops"
   ]
  },
  {
   "cell_type": "code",
   "execution_count": null,
   "metadata": {},
   "outputs": [],
   "source": [
    "## labeled as YES\n",
    "show_rand_crops(crops=labeled, label_filter=1, num_shown=5)"
   ]
  },
  {
   "cell_type": "code",
   "execution_count": null,
   "metadata": {},
   "outputs": [],
   "source": [
    "## labeled as NO\n",
    "show_rand_crops(crops=labeled, label_filter=0, num_shown=5)"
   ]
  },
  {
   "cell_type": "code",
   "execution_count": null,
   "metadata": {},
   "outputs": [],
   "source": [
    "## labeled as undistinguishable\n",
    "show_rand_crops(crops=labeled, label_filter=-2, num_shown=5)"
   ]
  },
  {
   "cell_type": "code",
   "execution_count": null,
   "metadata": {},
   "outputs": [],
   "source": [
    "## any label\n",
    "show_rand_crops(crops=labeled, label_filter='na', num_shown=2)"
   ]
  },
  {
   "cell_type": "code",
   "execution_count": null,
   "metadata": {},
   "outputs": [],
   "source": []
  },
  {
   "cell_type": "markdown",
   "metadata": {},
   "source": [
    "## Unsupervised classification (overview of blobs)"
   ]
  },
  {
   "cell_type": "code",
   "execution_count": null,
   "metadata": {},
   "outputs": [],
   "source": [
    "crops = image_flat_crops\n",
    "#crops = crops[crops[:, 3] >= 0, :]  # remove unlabeled\n",
    "blobs_stat(crops)"
   ]
  },
  {
   "cell_type": "code",
   "execution_count": null,
   "metadata": {},
   "outputs": [],
   "source": [
    "cluster_info = pd.DataFrame(crops[:, 3], columns=['cluster_id'])\n",
    "tsne_df = pca_tsne(pd.DataFrame(crops), cluster_info=cluster_info)"
   ]
  },
  {
   "cell_type": "code",
   "execution_count": null,
   "metadata": {},
   "outputs": [],
   "source": [
    "## save this file in html format\n",
    "!jupyter nbconvert --to html labeling.ipynb"
   ]
  },
  {
   "cell_type": "code",
   "execution_count": null,
   "metadata": {},
   "outputs": [],
   "source": []
  }
 ],
 "metadata": {
  "kernelspec": {
   "display_name": "py35",
   "language": "python",
   "name": "py35"
  },
  "language_info": {
   "codemirror_mode": {
    "name": "ipython",
    "version": 3
   },
   "file_extension": ".py",
   "mimetype": "text/x-python",
   "name": "python",
   "nbconvert_exporter": "python",
   "pygments_lexer": "ipython3",
   "version": "3.5.5"
  }
 },
 "nbformat": 4,
 "nbformat_minor": 2
}
