{
 "cells": [
  {
   "cell_type": "code",
   "execution_count": null,
   "metadata": {},
   "outputs": [],
   "source": [
    "%matplotlib inline\n",
    "from ccount import *\n",
    "from czifile import CziFile\n",
    "from math import sqrt\n",
    "from skimage import data, img_as_float\n",
    "from skimage.draw import circle\n",
    "from skimage import exposure\n",
    "from skimage.feature import blob_dog, blob_log, blob_doh\n",
    "from skimage.color import rgb2gray\n",
    "from skimage.transform import rescale, resize, downscale_local_mean\n",
    "from IPython.display import clear_output\n",
    "from random import randint\n",
    "from time import sleep\n",
    "\n",
    "\n",
    "import numpy as np\n",
    "import matplotlib\n",
    "import matplotlib.pyplot as plt\n",
    "import os.path\n",
    "import re"
   ]
  },
  {
   "cell_type": "markdown",
   "metadata": {},
   "source": [
    "## Parameters"
   ]
  },
  {
   "cell_type": "code",
   "execution_count": null,
   "metadata": {},
   "outputs": [],
   "source": [
    "ls *npy*"
   ]
  },
  {
   "cell_type": "code",
   "execution_count": null,
   "metadata": {},
   "outputs": [],
   "source": [
    "ls *labeled*"
   ]
  },
  {
   "cell_type": "code",
   "execution_count": null,
   "metadata": {},
   "outputs": [],
   "source": [
    "# Please change\n",
    "in_name = 'CFUe_7MAY18.mid.labeled.npy.gz'\n",
    "\n",
    "# Don't change unless have to\n",
    "block_height = 2048 \n",
    "block_width = 2048 # pixcels\n",
    "\n",
    "blob_extention_ratio = 1.4 # extend blob radius manually (1.4)\n",
    "blob_extention_radius = 30 # pixcels to extend (2)"
   ]
  },
  {
   "cell_type": "markdown",
   "metadata": {},
   "source": [
    "# Load Pre-build crops (cropped images of blobs)"
   ]
  },
  {
   "cell_type": "code",
   "execution_count": null,
   "metadata": {},
   "outputs": [],
   "source": [
    "# load\n",
    "image_flat_crops = load_blobs_db(in_name)\n",
    "w = int(sqrt(image_flat_crops.shape[1]-6)) # padding width & cropped img width/2"
   ]
  },
  {
   "cell_type": "markdown",
   "metadata": {},
   "source": [
    "### Histogram of blob size"
   ]
  },
  {
   "cell_type": "code",
   "execution_count": null,
   "metadata": {},
   "outputs": [],
   "source": [
    "r_ = image_flat_crops[:,2]\n",
    "plt.hist(r_, 40)\n",
    "plt.title(\"Histogram of blob size\")\n",
    "plt.show()"
   ]
  },
  {
   "cell_type": "code",
   "execution_count": null,
   "metadata": {},
   "outputs": [],
   "source": [
    "show_rand_crops(crops=image_flat_crops, label_filter='na', num_shown=5)"
   ]
  },
  {
   "cell_type": "markdown",
   "metadata": {},
   "source": [
    "## Labeling"
   ]
  },
  {
   "cell_type": "code",
   "execution_count": null,
   "metadata": {},
   "outputs": [],
   "source": [
    "image_flat_crops = pop_label_flat_crops(image_flat_crops, random = True, seed = 1, skip_labeled = True)"
   ]
  },
  {
   "cell_type": "code",
   "execution_count": null,
   "metadata": {},
   "outputs": [],
   "source": []
  },
  {
   "cell_type": "code",
   "execution_count": null,
   "metadata": {},
   "outputs": [],
   "source": []
  },
  {
   "cell_type": "markdown",
   "metadata": {},
   "source": [
    "## Save"
   ]
  },
  {
   "cell_type": "code",
   "execution_count": null,
   "metadata": {},
   "outputs": [],
   "source": [
    "# save\n",
    "outname_labeled = input (\"please input file name to save labeled data(e.g. {})\\nto exit without saving 'e':\".format(\"xxx.labeled.npy\"))\n",
    "if outname_labeled == 'e':\n",
    "    print('exit without saving')\n",
    "else:\n",
    "    np.save(outname_labeled.strip(), image_flat_crops)  \n",
    "    print('saved into', outname_labeled.strip())"
   ]
  },
  {
   "cell_type": "code",
   "execution_count": null,
   "metadata": {},
   "outputs": [],
   "source": [
    "%%bash -s \"$outname_labeled\"\n",
    "gzip -f -1 $1"
   ]
  },
  {
   "cell_type": "code",
   "execution_count": null,
   "metadata": {},
   "outputs": [],
   "source": [
    "## Unsupervised classification\n",
    "import pandas as pd\n",
    "from sklearn.decomposition import PCA\n",
    "# from sklearn.manifold import TSNE  # single core\n",
    "from MulticoreTSNE import MulticoreTSNE as TSNE  # MCORE\n",
    "\n",
    "\n",
    "def cluster_scatterplot(df2d, labels, title):\n",
    "    '''\n",
    "    PCA or t-SNE 2D visualization\n",
    "    \n",
    "    `cluster_scatterplot(tsne_projection, cluster_info.Cluster.values.astype(int),\n",
    "                    title='projection.csv t-SNE')`\n",
    "                    \n",
    "    :param df2d: PCA or t-SNE projection df, cell as row, feature as columns\n",
    "    :param labels: \n",
    "    :param title: \n",
    "    :return: \n",
    "    '''\n",
    "    legends = np.unique(labels)\n",
    "    print('all labels:', legends)\n",
    "\n",
    "    fig = plt.figure(figsize=(8, 6))\n",
    "    ax = plt.subplot(111)\n",
    "\n",
    "    for i in legends:\n",
    "        _ = df2d.iloc[labels == i]\n",
    "        num_blobs = str(len(_))\n",
    "        percent_cells = str(round(int(num_blobs) / len(df2d) * 100, 1)) + '%'\n",
    "        ax.scatter(_.iloc[:, 0], _.iloc[:, 1],\n",
    "                   alpha=0.5, marker='.',\n",
    "                   label='c' + str(i) + ':' + num_blobs + ', ' + percent_cells\n",
    "                   )\n",
    "\n",
    "    box = ax.get_position()\n",
    "    ax.set_position([box.x0, box.y0, box.width * 0.8, box.height])\n",
    "    ax.legend(loc='center left', bbox_to_anchor=(1, 0.5))\n",
    "    plt.title(title)\n",
    "    plt.xlabel('legend format:  cluster_id:num-cells')\n",
    "\n",
    "    plt.savefig(title + '.png', bbox_inches='tight')\n",
    "    plt.show()\n",
    "    plt.close('all')\n",
    "\n",
    "    \n",
    "    \n",
    "def pca_tsne(df_gene_col, cluster_info=None, title='data', dir='plots',\n",
    "             num_pc=50, num_tsne=2, ncores=8):\n",
    "    '''\n",
    "    PCA and tSNE plots for DF_cell_row, save projections.csv\n",
    "    :param df_cell_row: data matrix, features as columns, e.g. [cell, gene] \n",
    "    :param cluster_info: cluster_id for each cell_id\n",
    "    :param title: figure title, e.g. Late\n",
    "    :param num_pc: 50\n",
    "    :param num_tsne: 2\n",
    "    :return: tsne_df, plots saved, pc_projection.csv, tsne_projection.csv saved\n",
    "    '''\n",
    "\n",
    "    if not os.path.exists(dir):\n",
    "        os.makedirs(dir)\n",
    "\n",
    "    title = './'+dir+'/'+title\n",
    "\n",
    "    df = df_gene_col\n",
    "    if cluster_info is None:\n",
    "        cluster_info = pd.DataFrame(0, index=df.index, columns=['cluster_id'])\n",
    "\n",
    "    tic = time.time()\n",
    "    # PCA\n",
    "    pca = PCA(n_components=num_pc)\n",
    "    pc_x = pca.fit_transform(df)\n",
    "    df_pc_df = pd.DataFrame(data=pc_x, index=df.index, columns=range(num_pc))\n",
    "    df_pc_df.index.name = 'cell_id'\n",
    "    df_pc_df.columns.name = 'PC'\n",
    "    df_pc_df.to_csv(title+'.pca.csv')\n",
    "    print('dim before PCA', df.shape)\n",
    "    print('dim after PCA', df_pc_df.shape)\n",
    "    print('explained variance ratio: {}'.format(\n",
    "        sum(pca.explained_variance_ratio_)))\n",
    "\n",
    "    colors = cluster_info.reindex(df_pc_df.index)\n",
    "    colors = colors.dropna().iloc[:, 0]\n",
    "    print('matched cluster_info:', colors.shape)\n",
    "    print('unmatched data will be excluded from the plot')  # todo: include unmatched\n",
    "\n",
    "    df_pc_ = df_pc_df.reindex(colors.index)  # only plot labeled data?\n",
    "    cluster_scatterplot(df_pc_, colors.values.astype(str), title=title+' (PCA)')\n",
    "\n",
    "    # tSNE\n",
    "    print('MCORE-TSNE, with ', ncores, ' cores')\n",
    "    df_tsne = TSNE(n_components=num_tsne, n_jobs=ncores).fit_transform(df_pc_)\n",
    "    print('tsne done')\n",
    "    df_tsne_df = pd.DataFrame(data=df_tsne, index=df_pc_.index)\n",
    "    print('wait to output tsne')\n",
    "    df_tsne_df.to_csv(title+'.tsne.csv')\n",
    "    print('wrote tsne to output')\n",
    "    cluster_scatterplot(df_tsne_df, colors.values.astype(str), title=title+' ('\n",
    "                                                                           't-SNE)')\n",
    "    toc = time.time()\n",
    "    print('PCA and tSNE took {:.1f} seconds\\n'.format(toc-tic))\n",
    "\n",
    "    return df_tsne_df\n",
    "\n",
    "crops = image_flat_crops\n",
    "#crops = crops[crops[:, 3] >= 0, :]  # remove unlabeled\n",
    "blobs_stat(crops)\n",
    "\n",
    "cluster_info = pd.DataFrame(crops[:, 3], columns=['cluster_id'])\n",
    "\n",
    "tsne_df = pca_tsne(pd.DataFrame(crops), cluster_info=cluster_info)"
   ]
  },
  {
   "cell_type": "markdown",
   "metadata": {},
   "source": [
    "# Review Labeled DB"
   ]
  },
  {
   "cell_type": "code",
   "execution_count": null,
   "metadata": {},
   "outputs": [],
   "source": [
    "labeled = load_blobs_db(outname_labeled.strip()+'.gz')\n",
    "#labeled = image_flat_crops"
   ]
  },
  {
   "cell_type": "code",
   "execution_count": null,
   "metadata": {},
   "outputs": [],
   "source": [
    "## labeled as YES\n",
    "show_rand_crops(crops=labeled, label_filter=1, num_shown=5)"
   ]
  },
  {
   "cell_type": "code",
   "execution_count": null,
   "metadata": {},
   "outputs": [],
   "source": [
    "## labeled as NO\n",
    "show_rand_crops(crops=labeled, label_filter=0, num_shown=5)"
   ]
  },
  {
   "cell_type": "code",
   "execution_count": null,
   "metadata": {},
   "outputs": [],
   "source": [
    "## labeled as undistinguishable\n",
    "show_rand_crops(crops=labeled, label_filter=-2, num_shown=5)"
   ]
  },
  {
   "cell_type": "code",
   "execution_count": null,
   "metadata": {},
   "outputs": [],
   "source": [
    "## any label\n",
    "show_rand_crops(crops=labeled, label_filter='na', num_shown=2)"
   ]
  },
  {
   "cell_type": "code",
   "execution_count": null,
   "metadata": {},
   "outputs": [],
   "source": []
  },
  {
   "cell_type": "code",
   "execution_count": null,
   "metadata": {},
   "outputs": [],
   "source": []
  }
 ],
 "metadata": {
  "kernelspec": {
   "display_name": "py35",
   "language": "python",
   "name": "py35"
  },
  "language_info": {
   "codemirror_mode": {
    "name": "ipython",
    "version": 3
   },
   "file_extension": ".py",
   "mimetype": "text/x-python",
   "name": "python",
   "nbconvert_exporter": "python",
   "pygments_lexer": "ipython3",
   "version": "3.5.5"
  }
 },
 "nbformat": 4,
 "nbformat_minor": 2
}
