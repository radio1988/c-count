{
 "cells": [
  {
   "cell_type": "markdown",
   "metadata": {},
   "source": [
    "## Instructions\n",
    "1. blob_detection\n",
    "2. size_filter\n",
    "3. labeling_blobs\n",
    "4. counting (classification)\n",
    "\n",
    "## Installation\n",
    "- install conda\n",
    "- `conda install skimage`\n",
    "\n",
    "## Nomenclature:\n",
    "- image: the whole input czi, which contains many blocks\n",
    "- block: each block of image scanned by microscopy\n",
    "- blob: each blob contrasty (darker on light background) detectable in the block\n",
    "- crop: a 50x50 cropped image with the blob in center, with a yellow circle indicating \n",
    "- masked_crop: "
   ]
  },
  {
   "cell_type": "code",
   "execution_count": null,
   "metadata": {},
   "outputs": [],
   "source": []
  }
 ],
 "metadata": {
  "kernelspec": {
   "display_name": "py35",
   "language": "python",
   "name": "py35"
  },
  "language_info": {
   "codemirror_mode": {
    "name": "ipython",
    "version": 3
   },
   "file_extension": ".py",
   "mimetype": "text/x-python",
   "name": "python",
   "nbconvert_exporter": "python",
   "pygments_lexer": "ipython3",
   "version": "3.5.5"
  }
 },
 "nbformat": 4,
 "nbformat_minor": 2
}
