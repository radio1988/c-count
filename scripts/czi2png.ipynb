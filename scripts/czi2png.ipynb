{
 "cells": [
  {
   "cell_type": "code",
   "execution_count": null,
   "metadata": {},
   "outputs": [],
   "source": [
    "from os import environ\n",
    "from ccount import read_czi, block_equalize\n",
    "import numpy as np\n",
    "import matplotlib.pyplot as plt\n",
    "import os\n",
    "import re"
   ]
  },
  {
   "cell_type": "code",
   "execution_count": null,
   "metadata": {},
   "outputs": [],
   "source": [
    "# Read Image\n",
    "format=\"2019\"\n",
    "if environ.get('fname') is not None:\n",
    "    fname = environ['fname']  # for runipy\n",
    "else:\n",
    "    # for notebook running\n",
    "    fname = '../../ccount_data/E2F4_CFUe_14JUN19_stitching/Beta_CFUe_1-Stitching-07.czi'\n",
    "print('fname:', fname)\n",
    "\n",
    "\n",
    "outname = os.path.basename(fname)\n",
    "out_img_fname = re.sub('.czi$', '.png', outname)\n",
    "equ_img_fname = re.sub('.czi$', '.equ.png', outname)\n",
    "print(\"out_img_fname\", out_img_fname)\n",
    "print(\"equ_img_fname\", equ_img_fname)"
   ]
  },
  {
   "cell_type": "code",
   "execution_count": null,
   "metadata": {},
   "outputs": [],
   "source": [
    "print(fname)\n",
    "image = read_czi(fname, format=\"2019\")\n",
    "dims = np.divide(image.shape, 128) # out jpg size: 256 big, 512 mid, 1024 small"
   ]
  },
  {
   "cell_type": "code",
   "execution_count": null,
   "metadata": {},
   "outputs": [],
   "source": [
    "plt.figure(figsize=(dims[0],dims[1]))\n",
    "plt.imshow(image, 'gray')\n",
    "plt.savefig(out_img_fname)"
   ]
  },
  {
   "cell_type": "code",
   "execution_count": null,
   "metadata": {},
   "outputs": [],
   "source": [
    "image_equ = block_equalize(image, block_height=2000, block_width=2400)"
   ]
  },
  {
   "cell_type": "code",
   "execution_count": null,
   "metadata": {},
   "outputs": [],
   "source": [
    "print(\"Visualizing equalization\")\n",
    "plt.figure(figsize=(dims[0],dims[1]))\n",
    "plt.imshow(image_equ, 'gray')\n",
    "plt.savefig(equ_img_fname)"
   ]
  },
  {
   "cell_type": "code",
   "execution_count": null,
   "metadata": {},
   "outputs": [],
   "source": []
  }
 ],
 "metadata": {
  "kernelspec": {
   "display_name": "tf",
   "language": "python",
   "name": "tf"
  },
  "language_info": {
   "codemirror_mode": {
    "name": "ipython",
    "version": 3
   },
   "file_extension": ".py",
   "mimetype": "text/x-python",
   "name": "python",
   "nbconvert_exporter": "python",
   "pygments_lexer": "ipython3",
   "version": "3.7.6"
  }
 },
 "nbformat": 4,
 "nbformat_minor": 4
}
